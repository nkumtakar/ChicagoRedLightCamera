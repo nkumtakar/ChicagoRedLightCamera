{
 "cells": [
  {
   "cell_type": "markdown",
   "metadata": {},
   "source": [
    "# READ IN DATA"
   ]
  },
  {
   "cell_type": "code",
   "execution_count": 297,
   "metadata": {},
   "outputs": [],
   "source": [
    "import pandas as pd\n",
    "\n",
    "Data = pd.read_csv(\"Red_Light_Camera_Violations.csv\")"
   ]
  },
  {
   "cell_type": "code",
   "execution_count": 2,
   "metadata": {
    "scrolled": false
   },
   "outputs": [
    {
     "data": {
      "text/html": [
       "<div>\n",
       "<style scoped>\n",
       "    .dataframe tbody tr th:only-of-type {\n",
       "        vertical-align: middle;\n",
       "    }\n",
       "\n",
       "    .dataframe tbody tr th {\n",
       "        vertical-align: top;\n",
       "    }\n",
       "\n",
       "    .dataframe thead th {\n",
       "        text-align: right;\n",
       "    }\n",
       "</style>\n",
       "<table border=\"1\" class=\"dataframe\">\n",
       "  <thead>\n",
       "    <tr style=\"text-align: right;\">\n",
       "      <th></th>\n",
       "      <th>INTERSECTION</th>\n",
       "      <th>CAMERA ID</th>\n",
       "      <th>ADDRESS</th>\n",
       "      <th>VIOLATION DATE</th>\n",
       "      <th>VIOLATIONS</th>\n",
       "      <th>X COORDINATE</th>\n",
       "      <th>Y COORDINATE</th>\n",
       "      <th>LATITUDE</th>\n",
       "      <th>LONGITUDE</th>\n",
       "      <th>LOCATION</th>\n",
       "      <th>Zipcode</th>\n",
       "    </tr>\n",
       "  </thead>\n",
       "  <tbody>\n",
       "    <tr>\n",
       "      <td>0</td>\n",
       "      <td>31ST ST AND MARTIN LUTHER KING DRIVE</td>\n",
       "      <td>2121.0</td>\n",
       "      <td>3100 S DR MARTIN L KING</td>\n",
       "      <td>8/2/2014</td>\n",
       "      <td>16</td>\n",
       "      <td>NaN</td>\n",
       "      <td>NaN</td>\n",
       "      <td>NaN</td>\n",
       "      <td>NaN</td>\n",
       "      <td>NaN</td>\n",
       "      <td>60616</td>\n",
       "    </tr>\n",
       "    <tr>\n",
       "      <td>1</td>\n",
       "      <td>MADISON AND CENTRAL</td>\n",
       "      <td>1751.0</td>\n",
       "      <td>0 S CENTRAL AVENUE</td>\n",
       "      <td>7/15/2014</td>\n",
       "      <td>5</td>\n",
       "      <td>NaN</td>\n",
       "      <td>NaN</td>\n",
       "      <td>NaN</td>\n",
       "      <td>NaN</td>\n",
       "      <td>NaN</td>\n",
       "      <td>60644</td>\n",
       "    </tr>\n",
       "    <tr>\n",
       "      <td>2</td>\n",
       "      <td>HOMAN/KIMBALL AND NORTH</td>\n",
       "      <td>1771.0</td>\n",
       "      <td>1600 N HOMAN AVENUE</td>\n",
       "      <td>7/27/2014</td>\n",
       "      <td>1</td>\n",
       "      <td>NaN</td>\n",
       "      <td>NaN</td>\n",
       "      <td>NaN</td>\n",
       "      <td>NaN</td>\n",
       "      <td>NaN</td>\n",
       "      <td>60647</td>\n",
       "    </tr>\n",
       "    <tr>\n",
       "      <td>3</td>\n",
       "      <td>IRVING PARK AND LARAMIE</td>\n",
       "      <td>1533.0</td>\n",
       "      <td>5200 W IRVING PARK ROA</td>\n",
       "      <td>8/7/2014</td>\n",
       "      <td>6</td>\n",
       "      <td>NaN</td>\n",
       "      <td>NaN</td>\n",
       "      <td>NaN</td>\n",
       "      <td>NaN</td>\n",
       "      <td>NaN</td>\n",
       "      <td>60641</td>\n",
       "    </tr>\n",
       "    <tr>\n",
       "      <td>4</td>\n",
       "      <td>ASHLAND AND MADISON</td>\n",
       "      <td>1911.0</td>\n",
       "      <td>0 N ASHLAND AVE</td>\n",
       "      <td>7/23/2014</td>\n",
       "      <td>1</td>\n",
       "      <td>NaN</td>\n",
       "      <td>NaN</td>\n",
       "      <td>NaN</td>\n",
       "      <td>NaN</td>\n",
       "      <td>NaN</td>\n",
       "      <td>60607</td>\n",
       "    </tr>\n",
       "    <tr>\n",
       "      <td>...</td>\n",
       "      <td>...</td>\n",
       "      <td>...</td>\n",
       "      <td>...</td>\n",
       "      <td>...</td>\n",
       "      <td>...</td>\n",
       "      <td>...</td>\n",
       "      <td>...</td>\n",
       "      <td>...</td>\n",
       "      <td>...</td>\n",
       "      <td>...</td>\n",
       "      <td>...</td>\n",
       "    </tr>\n",
       "    <tr>\n",
       "      <td>310574</td>\n",
       "      <td>BELMONT AND KEDZIE</td>\n",
       "      <td>1373.0</td>\n",
       "      <td>3200 W BELMONT</td>\n",
       "      <td>3/17/2017</td>\n",
       "      <td>3</td>\n",
       "      <td>1154461.588</td>\n",
       "      <td>1921143.091</td>\n",
       "      <td>41.939441</td>\n",
       "      <td>-87.707719</td>\n",
       "      <td>(41.93944056117365, -87.70771851630873)</td>\n",
       "      <td>60618</td>\n",
       "    </tr>\n",
       "    <tr>\n",
       "      <td>310575</td>\n",
       "      <td>CENTRAL AND IRVING PARK</td>\n",
       "      <td>1183.0</td>\n",
       "      <td>5600 W IRVING PARK ROAD</td>\n",
       "      <td>3/17/2017</td>\n",
       "      <td>2</td>\n",
       "      <td>1138281.535</td>\n",
       "      <td>1926078.648</td>\n",
       "      <td>41.953293</td>\n",
       "      <td>-87.767066</td>\n",
       "      <td>(41.953292847298, -87.76706570775266)</td>\n",
       "      <td>60641</td>\n",
       "    </tr>\n",
       "    <tr>\n",
       "      <td>310576</td>\n",
       "      <td>PULASKI AND DIVERSEY</td>\n",
       "      <td>1542.0</td>\n",
       "      <td>2800 N PULASKI ROAD</td>\n",
       "      <td>3/17/2017</td>\n",
       "      <td>2</td>\n",
       "      <td>1149200.725</td>\n",
       "      <td>1918332.223</td>\n",
       "      <td>41.931831</td>\n",
       "      <td>-87.727127</td>\n",
       "      <td>(41.93183102561505, -87.72712687300454)</td>\n",
       "      <td>60647</td>\n",
       "    </tr>\n",
       "    <tr>\n",
       "      <td>310577</td>\n",
       "      <td>ASHLAND AND IRVING PARK</td>\n",
       "      <td>1153.0</td>\n",
       "      <td>1600 W IRVING PARK ROA</td>\n",
       "      <td>3/17/2017</td>\n",
       "      <td>5</td>\n",
       "      <td>NaN</td>\n",
       "      <td>NaN</td>\n",
       "      <td>NaN</td>\n",
       "      <td>NaN</td>\n",
       "      <td>NaN</td>\n",
       "      <td>60613</td>\n",
       "    </tr>\n",
       "    <tr>\n",
       "      <td>310578</td>\n",
       "      <td>CENTRAL AND ADDISON</td>\n",
       "      <td>1682.0</td>\n",
       "      <td>3600 N CENTRAL AVENUE</td>\n",
       "      <td>3/17/2017</td>\n",
       "      <td>2</td>\n",
       "      <td>1138343.117</td>\n",
       "      <td>1923392.067</td>\n",
       "      <td>41.945919</td>\n",
       "      <td>-87.766905</td>\n",
       "      <td>(41.945919490555106, -87.76690459426293)</td>\n",
       "      <td>60634</td>\n",
       "    </tr>\n",
       "  </tbody>\n",
       "</table>\n",
       "<p>310579 rows × 11 columns</p>\n",
       "</div>"
      ],
      "text/plain": [
       "                                INTERSECTION  CAMERA ID  \\\n",
       "0       31ST ST AND MARTIN LUTHER KING DRIVE     2121.0   \n",
       "1                        MADISON AND CENTRAL     1751.0   \n",
       "2                    HOMAN/KIMBALL AND NORTH     1771.0   \n",
       "3                    IRVING PARK AND LARAMIE     1533.0   \n",
       "4                        ASHLAND AND MADISON     1911.0   \n",
       "...                                      ...        ...   \n",
       "310574                    BELMONT AND KEDZIE     1373.0   \n",
       "310575               CENTRAL AND IRVING PARK     1183.0   \n",
       "310576                  PULASKI AND DIVERSEY     1542.0   \n",
       "310577               ASHLAND AND IRVING PARK     1153.0   \n",
       "310578                   CENTRAL AND ADDISON     1682.0   \n",
       "\n",
       "                        ADDRESS VIOLATION DATE  VIOLATIONS  X COORDINATE  \\\n",
       "0       3100 S DR MARTIN L KING       8/2/2014          16           NaN   \n",
       "1            0 S CENTRAL AVENUE      7/15/2014           5           NaN   \n",
       "2           1600 N HOMAN AVENUE      7/27/2014           1           NaN   \n",
       "3        5200 W IRVING PARK ROA       8/7/2014           6           NaN   \n",
       "4               0 N ASHLAND AVE      7/23/2014           1           NaN   \n",
       "...                         ...            ...         ...           ...   \n",
       "310574           3200 W BELMONT      3/17/2017           3   1154461.588   \n",
       "310575  5600 W IRVING PARK ROAD      3/17/2017           2   1138281.535   \n",
       "310576      2800 N PULASKI ROAD      3/17/2017           2   1149200.725   \n",
       "310577   1600 W IRVING PARK ROA      3/17/2017           5           NaN   \n",
       "310578    3600 N CENTRAL AVENUE      3/17/2017           2   1138343.117   \n",
       "\n",
       "        Y COORDINATE   LATITUDE  LONGITUDE  \\\n",
       "0                NaN        NaN        NaN   \n",
       "1                NaN        NaN        NaN   \n",
       "2                NaN        NaN        NaN   \n",
       "3                NaN        NaN        NaN   \n",
       "4                NaN        NaN        NaN   \n",
       "...              ...        ...        ...   \n",
       "310574   1921143.091  41.939441 -87.707719   \n",
       "310575   1926078.648  41.953293 -87.767066   \n",
       "310576   1918332.223  41.931831 -87.727127   \n",
       "310577           NaN        NaN        NaN   \n",
       "310578   1923392.067  41.945919 -87.766905   \n",
       "\n",
       "                                        LOCATION  Zipcode  \n",
       "0                                            NaN    60616  \n",
       "1                                            NaN    60644  \n",
       "2                                            NaN    60647  \n",
       "3                                            NaN    60641  \n",
       "4                                            NaN    60607  \n",
       "...                                          ...      ...  \n",
       "310574   (41.93944056117365, -87.70771851630873)    60618  \n",
       "310575     (41.953292847298, -87.76706570775266)    60641  \n",
       "310576   (41.93183102561505, -87.72712687300454)    60647  \n",
       "310577                                       NaN    60613  \n",
       "310578  (41.945919490555106, -87.76690459426293)    60634  \n",
       "\n",
       "[310579 rows x 11 columns]"
      ]
     },
     "execution_count": 2,
     "metadata": {},
     "output_type": "execute_result"
    }
   ],
   "source": [
    "Data"
   ]
  },
  {
   "cell_type": "markdown",
   "metadata": {},
   "source": [
    "# DESCRIPTIVE ANALYSIS"
   ]
  },
  {
   "cell_type": "code",
   "execution_count": 3,
   "metadata": {},
   "outputs": [
    {
     "data": {
      "text/plain": [
       "INTERSECTION      0.000000\n",
       "CAMERA ID         0.001146\n",
       "ADDRESS           0.000000\n",
       "VIOLATION DATE    0.000000\n",
       "VIOLATIONS        0.000000\n",
       "X COORDINATE      0.059885\n",
       "Y COORDINATE      0.059885\n",
       "LATITUDE          0.059885\n",
       "LONGITUDE         0.059885\n",
       "LOCATION          0.059885\n",
       "Zipcode           0.000000\n",
       "dtype: float64"
      ]
     },
     "execution_count": 3,
     "metadata": {},
     "output_type": "execute_result"
    }
   ],
   "source": [
    "##  310579 rows x 11 columns\n",
    "## Find missing % of values in each columns \n",
    "\n",
    "Missing = Data.isna().sum() / len(Data)\n",
    "Missing"
   ]
  },
  {
   "cell_type": "code",
   "execution_count": 4,
   "metadata": {},
   "outputs": [
    {
     "name": "stdout",
     "output_type": "stream",
     "text": [
      "Most frequent Intersection 0    CALIFORNIA AND DIVERSEY\n",
      "dtype: object\n",
      "Most Frequent Address 0    800 W ROOSEVELT ROAD\n",
      "dtype: object\n",
      "Average Number of violations 6.0\n",
      "Most frequent ZipCode  0    60639\n",
      "dtype: int64\n",
      "Variance of Violations 52.06847367462309\n",
      "Standard Dev of Violations 7.21584878407406\n"
     ]
    }
   ],
   "source": [
    "print(\"Most frequent Intersection\", Data['INTERSECTION'].mode())\n",
    "print(\"Most Frequent Address\", Data['ADDRESS'].mode())\n",
    "print(\"Average Number of violations\", round(Data['VIOLATIONS'].mean(),0))\n",
    "print(\"Most frequent ZipCode \", Data['Zipcode'].mode())\n",
    "print(\"Variance of Violations\", Data['VIOLATIONS'].var())\n",
    "print(\"Standard Dev of Violations\", Data['VIOLATIONS'].std())\n",
    "\n"
   ]
  },
  {
   "cell_type": "code",
   "execution_count": 5,
   "metadata": {
    "scrolled": true
   },
   "outputs": [
    {
     "data": {
      "text/plain": [
       "<matplotlib.axes._subplots.AxesSubplot at 0x1b31b580dc8>"
      ]
     },
     "execution_count": 5,
     "metadata": {},
     "output_type": "execute_result"
    }
   ],
   "source": [
    "Data['VIOLATIONS'].hist()"
   ]
  },
  {
   "cell_type": "code",
   "execution_count": 6,
   "metadata": {},
   "outputs": [
    {
     "name": "stdout",
     "output_type": "stream",
     "text": [
      "Outlier threshold for Violations 27.279945838343263\n",
      "Number of outliers 5426\n"
     ]
    }
   ],
   "source": [
    "Outlier=Data['VIOLATIONS'].mean() + 3* Data['VIOLATIONS'].std()\n",
    "\n",
    "print(\"Outlier threshold for Violations\", Outlier)\n",
    "\n",
    "print(\"Number of outliers\", Data[Data['VIOLATIONS'] > Outlier].shape[0])"
   ]
  },
  {
   "cell_type": "code",
   "execution_count": 7,
   "metadata": {},
   "outputs": [
    {
     "data": {
      "text/plain": [
       "<matplotlib.collections.PathCollection at 0x1b31cb62588>"
      ]
     },
     "execution_count": 7,
     "metadata": {},
     "output_type": "execute_result"
    },
    {
     "data": {
      "image/png": "[encoded data removed]",
      "text/plain": [
       "<Figure size 432x288 with 1 Axes>"
      ]
     },
     "metadata": {
      "needs_background": "light"
     },
     "output_type": "display_data"
    }
   ],
   "source": [
    "import matplotlib as plt\n",
    "\n",
    "\n",
    "plt.pyplot.scatter(list(range(1, 310579  +1)), Data['VIOLATIONS'])"
   ]
  },
  {
   "cell_type": "code",
   "execution_count": 8,
   "metadata": {},
   "outputs": [
    {
     "data": {
      "text/plain": [
       "<matplotlib.collections.PathCollection at 0x1b31bf193c8>"
      ]
     },
     "execution_count": 8,
     "metadata": {},
     "output_type": "execute_result"
    },
    {
     "data": {
      "image/png": "[encoded data removed]",
      "text/plain": [
       "<Figure size 432x288 with 1 Axes>"
      ]
     },
     "metadata": {
      "needs_background": "light"
     },
     "output_type": "display_data"
    }
   ],
   "source": [
    "import matplotlib as plt\n",
    "\n",
    "plt.pyplot.scatter(Data['Zipcode'], Data['VIOLATIONS'])"
   ]
  },
  {
   "cell_type": "code",
   "execution_count": 9,
   "metadata": {},
   "outputs": [
    {
     "data": {
      "text/plain": [
       "<matplotlib.axes._subplots.AxesSubplot at 0x1b31d6de348>"
      ]
     },
     "execution_count": 9,
     "metadata": {},
     "output_type": "execute_result"
    },
    {
     "data": {
      "image/png": "[encoded data removed]",
      "text/plain": [
       "<Figure size 432x288 with 2 Axes>"
      ]
     },
     "metadata": {
      "needs_background": "light"
     },
     "output_type": "display_data"
    }
   ],
   "source": [
    "import seaborn as sns\n",
    "sns.heatmap(Data.corr(), \n",
    "        xticklabels=Data.corr().columns,\n",
    "        yticklabels=Data.corr().columns)"
   ]
  },
  {
   "cell_type": "code",
   "execution_count": 10,
   "metadata": {},
   "outputs": [
    {
     "data": {
      "text/html": [
       "<div>\n",
       "<style scoped>\n",
       "    .dataframe tbody tr th:only-of-type {\n",
       "        vertical-align: middle;\n",
       "    }\n",
       "\n",
       "    .dataframe tbody tr th {\n",
       "        vertical-align: top;\n",
       "    }\n",
       "\n",
       "    .dataframe thead th {\n",
       "        text-align: right;\n",
       "    }\n",
       "</style>\n",
       "<table border=\"1\" class=\"dataframe\">\n",
       "  <thead>\n",
       "    <tr style=\"text-align: right;\">\n",
       "      <th></th>\n",
       "      <th>CAMERA ID</th>\n",
       "      <th>VIOLATIONS</th>\n",
       "      <th>X COORDINATE</th>\n",
       "      <th>Y COORDINATE</th>\n",
       "      <th>LATITUDE</th>\n",
       "      <th>LONGITUDE</th>\n",
       "      <th>Zipcode</th>\n",
       "    </tr>\n",
       "  </thead>\n",
       "  <tbody>\n",
       "    <tr>\n",
       "      <td>CAMERA ID</td>\n",
       "      <td>1.00</td>\n",
       "      <td>0.13</td>\n",
       "      <td>0.46</td>\n",
       "      <td>-0.90</td>\n",
       "      <td>-0.90</td>\n",
       "      <td>0.45</td>\n",
       "      <td>-0.11</td>\n",
       "    </tr>\n",
       "    <tr>\n",
       "      <td>VIOLATIONS</td>\n",
       "      <td>0.13</td>\n",
       "      <td>1.00</td>\n",
       "      <td>0.17</td>\n",
       "      <td>-0.11</td>\n",
       "      <td>-0.11</td>\n",
       "      <td>0.17</td>\n",
       "      <td>0.14</td>\n",
       "    </tr>\n",
       "    <tr>\n",
       "      <td>X COORDINATE</td>\n",
       "      <td>0.46</td>\n",
       "      <td>0.17</td>\n",
       "      <td>1.00</td>\n",
       "      <td>-0.50</td>\n",
       "      <td>-0.50</td>\n",
       "      <td>1.00</td>\n",
       "      <td>-0.25</td>\n",
       "    </tr>\n",
       "    <tr>\n",
       "      <td>Y COORDINATE</td>\n",
       "      <td>-0.90</td>\n",
       "      <td>-0.11</td>\n",
       "      <td>-0.50</td>\n",
       "      <td>1.00</td>\n",
       "      <td>1.00</td>\n",
       "      <td>-0.49</td>\n",
       "      <td>0.16</td>\n",
       "    </tr>\n",
       "    <tr>\n",
       "      <td>LATITUDE</td>\n",
       "      <td>-0.90</td>\n",
       "      <td>-0.11</td>\n",
       "      <td>-0.50</td>\n",
       "      <td>1.00</td>\n",
       "      <td>1.00</td>\n",
       "      <td>-0.49</td>\n",
       "      <td>0.16</td>\n",
       "    </tr>\n",
       "    <tr>\n",
       "      <td>LONGITUDE</td>\n",
       "      <td>0.45</td>\n",
       "      <td>0.17</td>\n",
       "      <td>1.00</td>\n",
       "      <td>-0.49</td>\n",
       "      <td>-0.49</td>\n",
       "      <td>1.00</td>\n",
       "      <td>-0.25</td>\n",
       "    </tr>\n",
       "    <tr>\n",
       "      <td>Zipcode</td>\n",
       "      <td>-0.11</td>\n",
       "      <td>0.14</td>\n",
       "      <td>-0.25</td>\n",
       "      <td>0.16</td>\n",
       "      <td>0.16</td>\n",
       "      <td>-0.25</td>\n",
       "      <td>1.00</td>\n",
       "    </tr>\n",
       "  </tbody>\n",
       "</table>\n",
       "</div>"
      ],
      "text/plain": [
       "              CAMERA ID  VIOLATIONS  X COORDINATE  Y COORDINATE  LATITUDE  \\\n",
       "CAMERA ID          1.00        0.13          0.46         -0.90     -0.90   \n",
       "VIOLATIONS         0.13        1.00          0.17         -0.11     -0.11   \n",
       "X COORDINATE       0.46        0.17          1.00         -0.50     -0.50   \n",
       "Y COORDINATE      -0.90       -0.11         -0.50          1.00      1.00   \n",
       "LATITUDE          -0.90       -0.11         -0.50          1.00      1.00   \n",
       "LONGITUDE          0.45        0.17          1.00         -0.49     -0.49   \n",
       "Zipcode           -0.11        0.14         -0.25          0.16      0.16   \n",
       "\n",
       "              LONGITUDE  Zipcode  \n",
       "CAMERA ID          0.45    -0.11  \n",
       "VIOLATIONS         0.17     0.14  \n",
       "X COORDINATE       1.00    -0.25  \n",
       "Y COORDINATE      -0.49     0.16  \n",
       "LATITUDE          -0.49     0.16  \n",
       "LONGITUDE          1.00    -0.25  \n",
       "Zipcode           -0.25     1.00  "
      ]
     },
     "execution_count": 10,
     "metadata": {},
     "output_type": "execute_result"
    }
   ],
   "source": [
    "round(Data.corr(),2)"
   ]
  },
  {
   "cell_type": "markdown",
   "metadata": {},
   "source": [
    "# DATA PREPROCESSING"
   ]
  },
  {
   "cell_type": "code",
   "execution_count": 298,
   "metadata": {},
   "outputs": [],
   "source": [
    "## Remove X Coordinate, Y Coordinate, Latittude and Longitutde, Location as they are just identifers\n",
    "\n",
    "## Also remove Camera ID as well\n",
    "\n",
    "Data = Data.drop(columns=['X COORDINATE', 'Y COORDINATE', 'LATITUDE', 'LONGITUDE', 'CAMERA ID', 'LOCATION'])\n",
    "\n"
   ]
  },
  {
   "cell_type": "code",
   "execution_count": 299,
   "metadata": {},
   "outputs": [],
   "source": [
    "Data['Violation_Month'] =  pd.DatetimeIndex(Data['VIOLATION DATE']).month\n",
    "\n",
    "Data['Violation_Year'] = pd.DatetimeIndex(Data['VIOLATION DATE']).year\n",
    "\n",
    "Data=Data.drop(columns=\"VIOLATION DATE\")"
   ]
  },
  {
   "cell_type": "code",
   "execution_count": 300,
   "metadata": {},
   "outputs": [
    {
     "name": "stdout",
     "output_type": "stream",
     "text": [
      "Zipcode cardinality 45\n",
      "Year cardinality 4\n",
      "Month cardinality 12\n",
      "Intersect Cardinaltiy  175\n",
      "Address Cardinaltiy  305\n"
     ]
    }
   ],
   "source": [
    "import numpy as np\n",
    "print(\"Zipcode cardinality\", Data['Zipcode'].value_counts().count())\n",
    "print(\"Year cardinality\", Data['Violation_Year'].value_counts().count())\n",
    "print(\"Month cardinality\", Data['Violation_Month'].value_counts().count())\n",
    "print(\"Intersect Cardinaltiy \", Data['INTERSECTION'].value_counts().count())\n",
    "print(\"Address Cardinaltiy \", Data['ADDRESS'].value_counts().count())"
   ]
  },
  {
   "cell_type": "code",
   "execution_count": 301,
   "metadata": {},
   "outputs": [],
   "source": [
    "Data = Data.drop(columns = ['ADDRESS', 'INTERSECTION'])"
   ]
  },
  {
   "cell_type": "code",
   "execution_count": 302,
   "metadata": {},
   "outputs": [],
   "source": [
    "## partion Zipcode INTO 5 GROUPS OF 9 MEMBERS EACH\n",
    "\n",
    "## Divide Months into Fall, Winter, Spring, and Sumemer\n",
    "\n",
    "## Years can stay the same \n",
    "\n",
    "Data['Cost'] = 100 * Data['VIOLATIONS']\n",
    "\n",
    "\n",
    "Data['Fall'] = Data['Violation_Month'].between(9,11, inclusive=True).astype('int') \n",
    "\n",
    "Data['Summer'] = Data['Violation_Month'].between(5, 8, inclusive=True).astype('int')\n",
    "\n",
    "Data['Winter'] =  ((Data['Violation_Month'].between(1,2, inclusive=True)) | (Data['Violation_Month'] ==12)).astype('int')\n",
    "\n",
    "Data['Spring'] = Data['Violation_Month'].between(3, 4, inclusive=True).astype('int')\n",
    "\n",
    "Data= Data.drop(columns = \"Violation_Month\")\n",
    "\n"
   ]
  },
  {
   "cell_type": "code",
   "execution_count": 303,
   "metadata": {},
   "outputs": [],
   "source": [
    "\n",
    "Data['Region_1'] = Data['Zipcode'].between(60607,60617, inclusive=True).astype('int')\n",
    "Data['Region_2'] = Data['Zipcode'].between(60618,60628, inclusive=True).astype('int')\n",
    "Data['Region_3'] = Data['Zipcode'].between(60629,60639, inclusive=True).astype('int')\n",
    "Data['Region_4'] = Data['Zipcode'].between(60640,60649, inclusive=True).astype('int')\n",
    "Data['Region_5'] = Data['Zipcode'].between(60651,60804, inclusive=True).astype('int')\n",
    "\n",
    "\n",
    "Data = Data.drop(columns= 'Zipcode')"
   ]
  },
  {
   "cell_type": "code",
   "execution_count": 304,
   "metadata": {},
   "outputs": [],
   "source": [
    "Data['RedFlag'] = (Data['VIOLATIONS'] > Data['VIOLATIONS'].mean()).astype('int')"
   ]
  },
  {
   "cell_type": "code",
   "execution_count": 305,
   "metadata": {},
   "outputs": [],
   "source": [
    "import pandas as pd\n",
    "\n",
    "s= pd.get_dummies(Data['Violation_Year'])\n",
    "\n",
    "Data= pd.concat([Data, s], axis=1)\n",
    "\n",
    "Data = Data.drop(columns='Violation_Year')"
   ]
  },
  {
   "cell_type": "code",
   "execution_count": 306,
   "metadata": {},
   "outputs": [
    {
     "data": {
      "text/plain": [
       "0    210738\n",
       "1     99841\n",
       "Name: RedFlag, dtype: int64"
      ]
     },
     "execution_count": 306,
     "metadata": {},
     "output_type": "execute_result"
    }
   ],
   "source": [
    "Data['RedFlag'].value_counts()"
   ]
  },
  {
   "cell_type": "code",
   "execution_count": 307,
   "metadata": {},
   "outputs": [],
   "source": [
    "from imblearn.over_sampling import SMOTE\n",
    "\n",
    "\n",
    "os = SMOTE(random_state=0)\n",
    "\n",
    "input_var = list(set(Data.columns) - set(['RedFlag']))\n",
    "\n",
    "X, Y = os.fit_sample(Data[Data.columns.difference(['RedFlag'])], Data['RedFlag'])\n",
    "\n",
    "X = pd.DataFrame(X, columns = input_var)\n",
    "\n",
    "Y= pd.DataFrame(Y, columns = ['RedFlag'])\n",
    "\n",
    "Data_df = pd.concat([X, Y], axis= 1 )"
   ]
  },
  {
   "cell_type": "code",
   "execution_count": 308,
   "metadata": {},
   "outputs": [
    {
     "data": {
      "text/plain": [
       "1    210738\n",
       "0    210738\n",
       "Name: RedFlag, dtype: int64"
      ]
     },
     "execution_count": 308,
     "metadata": {},
     "output_type": "execute_result"
    }
   ],
   "source": [
    "Data_df['RedFlag'].value_counts()"
   ]
  },
  {
   "cell_type": "code",
   "execution_count": 309,
   "metadata": {},
   "outputs": [],
   "source": [
    "from sklearn.model_selection import train_test_split \n",
    "X_train, X_test, Y_train, Y_test = train_test_split(X, Y, test_size= 0.30, random_state=30)"
   ]
  },
  {
   "cell_type": "code",
   "execution_count": 14,
   "metadata": {},
   "outputs": [
    {
     "data": {
      "text/html": [
       "<div>\n",
       "<style scoped>\n",
       "    .dataframe tbody tr th:only-of-type {\n",
       "        vertical-align: middle;\n",
       "    }\n",
       "\n",
       "    .dataframe tbody tr th {\n",
       "        vertical-align: top;\n",
       "    }\n",
       "\n",
       "    .dataframe thead th {\n",
       "        text-align: right;\n",
       "    }\n",
       "</style>\n",
       "<table border=\"1\" class=\"dataframe\">\n",
       "  <thead>\n",
       "    <tr style=\"text-align: right;\">\n",
       "      <th></th>\n",
       "      <th>Region_1</th>\n",
       "      <th>Region_4</th>\n",
       "      <th>Cost</th>\n",
       "      <th>Summer</th>\n",
       "      <th>2014</th>\n",
       "      <th>Spring</th>\n",
       "      <th>2016</th>\n",
       "      <th>2017</th>\n",
       "      <th>2015</th>\n",
       "      <th>Region_5</th>\n",
       "      <th>VIOLATIONS</th>\n",
       "      <th>Winter</th>\n",
       "      <th>Region_3</th>\n",
       "      <th>Region_2</th>\n",
       "      <th>Fall</th>\n",
       "    </tr>\n",
       "  </thead>\n",
       "  <tbody>\n",
       "    <tr>\n",
       "      <td>232113</td>\n",
       "      <td>1</td>\n",
       "      <td>0</td>\n",
       "      <td>400</td>\n",
       "      <td>0</td>\n",
       "      <td>0</td>\n",
       "      <td>0</td>\n",
       "      <td>1</td>\n",
       "      <td>0</td>\n",
       "      <td>0</td>\n",
       "      <td>0</td>\n",
       "      <td>4</td>\n",
       "      <td>0</td>\n",
       "      <td>0</td>\n",
       "      <td>0</td>\n",
       "      <td>1</td>\n",
       "    </tr>\n",
       "    <tr>\n",
       "      <td>166884</td>\n",
       "      <td>0</td>\n",
       "      <td>0</td>\n",
       "      <td>1800</td>\n",
       "      <td>0</td>\n",
       "      <td>0</td>\n",
       "      <td>1</td>\n",
       "      <td>1</td>\n",
       "      <td>0</td>\n",
       "      <td>0</td>\n",
       "      <td>1</td>\n",
       "      <td>18</td>\n",
       "      <td>0</td>\n",
       "      <td>0</td>\n",
       "      <td>0</td>\n",
       "      <td>0</td>\n",
       "    </tr>\n",
       "    <tr>\n",
       "      <td>221109</td>\n",
       "      <td>0</td>\n",
       "      <td>0</td>\n",
       "      <td>200</td>\n",
       "      <td>0</td>\n",
       "      <td>0</td>\n",
       "      <td>0</td>\n",
       "      <td>1</td>\n",
       "      <td>0</td>\n",
       "      <td>0</td>\n",
       "      <td>0</td>\n",
       "      <td>2</td>\n",
       "      <td>0</td>\n",
       "      <td>0</td>\n",
       "      <td>0</td>\n",
       "      <td>1</td>\n",
       "    </tr>\n",
       "    <tr>\n",
       "      <td>406391</td>\n",
       "      <td>0</td>\n",
       "      <td>1</td>\n",
       "      <td>1200</td>\n",
       "      <td>1</td>\n",
       "      <td>0</td>\n",
       "      <td>0</td>\n",
       "      <td>1</td>\n",
       "      <td>0</td>\n",
       "      <td>0</td>\n",
       "      <td>0</td>\n",
       "      <td>12</td>\n",
       "      <td>0</td>\n",
       "      <td>0</td>\n",
       "      <td>0</td>\n",
       "      <td>0</td>\n",
       "    </tr>\n",
       "    <tr>\n",
       "      <td>330323</td>\n",
       "      <td>0</td>\n",
       "      <td>0</td>\n",
       "      <td>1700</td>\n",
       "      <td>1</td>\n",
       "      <td>0</td>\n",
       "      <td>0</td>\n",
       "      <td>0</td>\n",
       "      <td>0</td>\n",
       "      <td>1</td>\n",
       "      <td>1</td>\n",
       "      <td>17</td>\n",
       "      <td>0</td>\n",
       "      <td>0</td>\n",
       "      <td>0</td>\n",
       "      <td>0</td>\n",
       "    </tr>\n",
       "    <tr>\n",
       "      <td>...</td>\n",
       "      <td>...</td>\n",
       "      <td>...</td>\n",
       "      <td>...</td>\n",
       "      <td>...</td>\n",
       "      <td>...</td>\n",
       "      <td>...</td>\n",
       "      <td>...</td>\n",
       "      <td>...</td>\n",
       "      <td>...</td>\n",
       "      <td>...</td>\n",
       "      <td>...</td>\n",
       "      <td>...</td>\n",
       "      <td>...</td>\n",
       "      <td>...</td>\n",
       "      <td>...</td>\n",
       "    </tr>\n",
       "    <tr>\n",
       "      <td>358197</td>\n",
       "      <td>0</td>\n",
       "      <td>0</td>\n",
       "      <td>800</td>\n",
       "      <td>0</td>\n",
       "      <td>0</td>\n",
       "      <td>0</td>\n",
       "      <td>1</td>\n",
       "      <td>0</td>\n",
       "      <td>0</td>\n",
       "      <td>0</td>\n",
       "      <td>8</td>\n",
       "      <td>1</td>\n",
       "      <td>0</td>\n",
       "      <td>0</td>\n",
       "      <td>0</td>\n",
       "    </tr>\n",
       "    <tr>\n",
       "      <td>328599</td>\n",
       "      <td>0</td>\n",
       "      <td>0</td>\n",
       "      <td>900</td>\n",
       "      <td>0</td>\n",
       "      <td>0</td>\n",
       "      <td>0</td>\n",
       "      <td>1</td>\n",
       "      <td>0</td>\n",
       "      <td>0</td>\n",
       "      <td>0</td>\n",
       "      <td>9</td>\n",
       "      <td>0</td>\n",
       "      <td>1</td>\n",
       "      <td>0</td>\n",
       "      <td>1</td>\n",
       "    </tr>\n",
       "    <tr>\n",
       "      <td>46220</td>\n",
       "      <td>0</td>\n",
       "      <td>1</td>\n",
       "      <td>1200</td>\n",
       "      <td>0</td>\n",
       "      <td>1</td>\n",
       "      <td>0</td>\n",
       "      <td>0</td>\n",
       "      <td>0</td>\n",
       "      <td>0</td>\n",
       "      <td>0</td>\n",
       "      <td>12</td>\n",
       "      <td>1</td>\n",
       "      <td>0</td>\n",
       "      <td>0</td>\n",
       "      <td>0</td>\n",
       "    </tr>\n",
       "    <tr>\n",
       "      <td>360948</td>\n",
       "      <td>0</td>\n",
       "      <td>0</td>\n",
       "      <td>600</td>\n",
       "      <td>0</td>\n",
       "      <td>0</td>\n",
       "      <td>0</td>\n",
       "      <td>1</td>\n",
       "      <td>0</td>\n",
       "      <td>0</td>\n",
       "      <td>0</td>\n",
       "      <td>6</td>\n",
       "      <td>0</td>\n",
       "      <td>0</td>\n",
       "      <td>1</td>\n",
       "      <td>1</td>\n",
       "    </tr>\n",
       "    <tr>\n",
       "      <td>48045</td>\n",
       "      <td>0</td>\n",
       "      <td>0</td>\n",
       "      <td>500</td>\n",
       "      <td>0</td>\n",
       "      <td>0</td>\n",
       "      <td>0</td>\n",
       "      <td>0</td>\n",
       "      <td>0</td>\n",
       "      <td>1</td>\n",
       "      <td>0</td>\n",
       "      <td>5</td>\n",
       "      <td>1</td>\n",
       "      <td>0</td>\n",
       "      <td>1</td>\n",
       "      <td>0</td>\n",
       "    </tr>\n",
       "  </tbody>\n",
       "</table>\n",
       "<p>295033 rows × 15 columns</p>\n",
       "</div>"
      ],
      "text/plain": [
       "        Region_1  Region_4  Cost  Summer  2014  Spring  2016  2017  2015  \\\n",
       "232113         1         0   400       0     0       0     1     0     0   \n",
       "166884         0         0  1800       0     0       1     1     0     0   \n",
       "221109         0         0   200       0     0       0     1     0     0   \n",
       "406391         0         1  1200       1     0       0     1     0     0   \n",
       "330323         0         0  1700       1     0       0     0     0     1   \n",
       "...          ...       ...   ...     ...   ...     ...   ...   ...   ...   \n",
       "358197         0         0   800       0     0       0     1     0     0   \n",
       "328599         0         0   900       0     0       0     1     0     0   \n",
       "46220          0         1  1200       0     1       0     0     0     0   \n",
       "360948         0         0   600       0     0       0     1     0     0   \n",
       "48045          0         0   500       0     0       0     0     0     1   \n",
       "\n",
       "        Region_5  VIOLATIONS  Winter  Region_3  Region_2  Fall  \n",
       "232113         0           4       0         0         0     1  \n",
       "166884         1          18       0         0         0     0  \n",
       "221109         0           2       0         0         0     1  \n",
       "406391         0          12       0         0         0     0  \n",
       "330323         1          17       0         0         0     0  \n",
       "...          ...         ...     ...       ...       ...   ...  \n",
       "358197         0           8       1         0         0     0  \n",
       "328599         0           9       0         1         0     1  \n",
       "46220          0          12       1         0         0     0  \n",
       "360948         0           6       0         0         1     1  \n",
       "48045          0           5       1         0         1     0  \n",
       "\n",
       "[295033 rows x 15 columns]"
      ]
     },
     "execution_count": 14,
     "metadata": {},
     "output_type": "execute_result"
    }
   ],
   "source": [
    "X_train"
   ]
  },
  {
   "cell_type": "markdown",
   "metadata": {},
   "source": [
    "# Algorithms"
   ]
  },
  {
   "cell_type": "markdown",
   "metadata": {},
   "source": [
    "# Decision Tree"
   ]
  },
  {
   "cell_type": "code",
   "execution_count": 28,
   "metadata": {},
   "outputs": [],
   "source": [
    "## Three parameters to consider: Splitter, Max_Depth, and max_features\n",
    "\n",
    "## We have 12 features in our training model, however, Region, Year, Season, Violation_no, Cost "
   ]
  },
  {
   "cell_type": "code",
   "execution_count": 29,
   "metadata": {},
   "outputs": [
    {
     "name": "stdout",
     "output_type": "stream",
     "text": [
      "<class 'pandas.core.frame.DataFrame'>\n",
      "Int64Index: 295033 entries, 232113 to 48045\n",
      "Data columns (total 15 columns):\n",
      "Region_3      295033 non-null int32\n",
      "Region_4      295033 non-null int32\n",
      "2014          295033 non-null uint8\n",
      "2015          295033 non-null uint8\n",
      "2016          295033 non-null uint8\n",
      "2017          295033 non-null uint8\n",
      "Winter        295033 non-null int32\n",
      "Spring        295033 non-null int32\n",
      "Summer        295033 non-null int32\n",
      "Region_2      295033 non-null int32\n",
      "Region_5      295033 non-null int32\n",
      "VIOLATIONS    295033 non-null int64\n",
      "Cost          295033 non-null int64\n",
      "Fall          295033 non-null int32\n",
      "Region_1      295033 non-null int32\n",
      "dtypes: int32(9), int64(2), uint8(4)\n",
      "memory usage: 18.0 MB\n"
     ]
    }
   ],
   "source": [
    "X_train.info()"
   ]
  },
  {
   "cell_type": "markdown",
   "metadata": {},
   "source": [
    "# DecisionTree(\"Random\", Max_Depth=?) - All Features"
   ]
  },
  {
   "cell_type": "code",
   "execution_count": 30,
   "metadata": {},
   "outputs": [
    {
     "name": "stdout",
     "output_type": "stream",
     "text": [
      "D   A   P   R   F1 \n",
      "1 0.6 1.0 0.2 0.33\n",
      "2 0.75 0.67 1.0 0.8\n",
      "3 0.9 1.0 0.79 0.89\n",
      "4 1.0 1.0 1.0 1.0\n",
      "5 1.0 1.0 1.0 1.0\n",
      "6 1.0 1.0 1.0 1.0\n",
      "7 1.0 1.0 1.0 1.0\n",
      "8 1.0 1.0 1.0 1.0\n",
      "9 1.0 1.0 1.0 1.0\n",
      "10 1.0 1.0 1.0 1.0\n",
      "11 1.0 1.0 1.0 1.0\n",
      "12 1.0 1.0 1.0 1.0\n",
      "13 1.0 1.0 1.0 1.0\n",
      "14 1.0 1.0 1.0 1.0\n",
      "15 1.0 1.0 1.0 1.0\n",
      "16 1.0 1.0 1.0 1.0\n",
      "17 1.0 1.0 1.0 1.0\n",
      "18 1.0 1.0 1.0 1.0\n",
      "19 1.0 1.0 1.0 1.0\n",
      "20 1.0 1.0 1.0 1.0\n"
     ]
    },
    {
     "data": {
      "image/png": "[encoded data removed]",
      "text/plain": [
       "<Figure size 432x288 with 1 Axes>"
      ]
     },
     "metadata": {
      "needs_background": "light"
     },
     "output_type": "display_data"
    }
   ],
   "source": [
    "from sklearn import tree\n",
    "from sklearn.metrics import confusion_matrix\n",
    "import sklearn as sk\n",
    "\n",
    "accuracy=[]\n",
    "F1=[]\n",
    "precision=[]\n",
    "recall=[]\n",
    "\n",
    "\n",
    "for i in range(1, 21):\n",
    "\n",
    "    clf = tree.DecisionTreeClassifier(splitter='random', max_depth=i, random_state=3)\n",
    "    clf=clf.fit(X_train,Y_train.values.ravel())\n",
    "    clf_pred = clf.predict(X_test)\n",
    "    rf_con_mat = confusion_matrix(Y_test, clf_pred, [0, 1])\n",
    "    accuracy.append( (rf_con_mat[0, 0] + rf_con_mat[1, 1]) / float(np.sum(rf_con_mat)))\n",
    "    F1.append(sk.metrics.f1_score(Y_test, clf_pred))\n",
    "    precision.append(sk.metrics.precision_score(Y_test, clf_pred))\n",
    "    recall.append(sk.metrics.recall_score(Y_test, clf_pred))\n",
    "        \n",
    "\n",
    "m= range(1,21)\n",
    "        \n",
    "        \n",
    "import matplotlib.pyplot as plt\n",
    "\n",
    "plt.plot(m, accuracy, color='blue')\n",
    "plt.plot(m, F1, color= 'orange')\n",
    "plt.title(\"DecisionTree(Random, Max_Depth=?) - All Features\")\n",
    "plt.xlabel(\"Max_Depth\")\n",
    "\n",
    "print(\"D \", \" A \", \" P \", \" R \", \" F1 \")\n",
    "\n",
    "for n in range(0, 20):\n",
    "\n",
    "    print(m[n], round(accuracy[n],2), round(precision[n],2), round(recall[n],2), round(F1[n],2))\n"
   ]
  },
  {
   "cell_type": "markdown",
   "metadata": {},
   "source": [
    "# DecisionTree(\"Random, Max Depth= 4, Max_features= ?\") - All Features"
   ]
  },
  {
   "cell_type": "code",
   "execution_count": 62,
   "metadata": {},
   "outputs": [
    {
     "name": "stdout",
     "output_type": "stream",
     "text": [
      "F   A   P   R   F1 \n",
      "1 0.57 0.6 0.44 0.51\n",
      "2 0.59 0.61 0.52 0.56\n",
      "3 0.63 0.64 0.6 0.62\n",
      "4 0.98 0.96 1.0 0.98\n",
      "5 0.6 0.62 0.51 0.56\n",
      "6 0.67 0.66 0.73 0.69\n",
      "7 0.75 0.93 0.54 0.68\n",
      "8 0.73 0.77 0.67 0.71\n",
      "9 1.0 1.0 1.0 1.0\n",
      "10 0.94 0.89 1.0 0.94\n",
      "11 1.0 1.0 1.0 1.0\n",
      "12 1.0 1.0 1.0 1.0\n"
     ]
    },
    {
     "data": {
      "image/png": "[encoded data removed]",
      "text/plain": [
       "<Figure size 432x288 with 1 Axes>"
      ]
     },
     "metadata": {
      "needs_background": "light"
     },
     "output_type": "display_data"
    }
   ],
   "source": [
    "from sklearn import tree\n",
    "from sklearn.metrics import confusion_matrix\n",
    "import sklearn as sk\n",
    "\n",
    "accuracy=[]\n",
    "F1=[]\n",
    "precision=[]\n",
    "recall=[]\n",
    "\n",
    "\n",
    "for i in range(1, 13):\n",
    "\n",
    "    clf = tree.DecisionTreeClassifier(splitter='random', max_depth=4, max_features=i, random_state=3)\n",
    "    clf=clf.fit(X_train,Y_train.values.ravel())\n",
    "    clf_pred = clf.predict(X_test)\n",
    "    rf_con_mat = confusion_matrix(Y_test, clf_pred, [0, 1])\n",
    "    accuracy.append( (rf_con_mat[0, 0] + rf_con_mat[1, 1]) / float(np.sum(rf_con_mat)))\n",
    "    F1.append(sk.metrics.f1_score(Y_test, clf_pred))\n",
    "    precision.append(sk.metrics.precision_score(Y_test, clf_pred))\n",
    "    recall.append(sk.metrics.recall_score(Y_test, clf_pred))\n",
    "    i=i+1\n",
    "        \n",
    "\n",
    "m= range(1,13)\n",
    "        \n",
    "        \n",
    "import matplotlib.pyplot as plt\n",
    "\n",
    "plt.plot(m, accuracy, color='blue')\n",
    "plt.plot(m, F1, color= 'orange')\n",
    "\n",
    "plt.title(\"DecisionTree(Random, Max_depth=4, Max_Features=?)\")\n",
    "plt.xlabel(\"Max_Features\")\n",
    "\n",
    "\n",
    "print(\"F \", \" A \", \" P \", \" R \", \" F1 \")\n",
    "\n",
    "for n in range(0, len(m)):\n",
    "\n",
    "    print(m[n], round(accuracy[n],2), round(precision[n],2), round(recall[n],2), round(F1[n],2))"
   ]
  },
  {
   "cell_type": "markdown",
   "metadata": {},
   "source": [
    "# DecisionTree(\"Best\", max_depth= ?) - All Features"
   ]
  },
  {
   "cell_type": "code",
   "execution_count": 31,
   "metadata": {},
   "outputs": [
    {
     "name": "stdout",
     "output_type": "stream",
     "text": [
      "D   A   P   R   F1 \n",
      "1 1.0 1.0 1.0 1.0\n",
      "2 1.0 1.0 1.0 1.0\n",
      "3 1.0 1.0 1.0 1.0\n",
      "4 1.0 1.0 1.0 1.0\n",
      "5 1.0 1.0 1.0 1.0\n",
      "6 1.0 1.0 1.0 1.0\n",
      "7 1.0 1.0 1.0 1.0\n",
      "8 1.0 1.0 1.0 1.0\n",
      "9 1.0 1.0 1.0 1.0\n",
      "10 1.0 1.0 1.0 1.0\n",
      "11 1.0 1.0 1.0 1.0\n",
      "12 1.0 1.0 1.0 1.0\n",
      "13 1.0 1.0 1.0 1.0\n",
      "14 1.0 1.0 1.0 1.0\n",
      "15 1.0 1.0 1.0 1.0\n",
      "16 1.0 1.0 1.0 1.0\n",
      "17 1.0 1.0 1.0 1.0\n",
      "18 1.0 1.0 1.0 1.0\n",
      "19 1.0 1.0 1.0 1.0\n",
      "20 1.0 1.0 1.0 1.0\n"
     ]
    },
    {
     "data": {
      "image/png": "[encoded data removed]",
      "text/plain": [
       "<Figure size 432x288 with 1 Axes>"
      ]
     },
     "metadata": {
      "needs_background": "light"
     },
     "output_type": "display_data"
    }
   ],
   "source": [
    "from sklearn import tree\n",
    "from sklearn.metrics import confusion_matrix\n",
    "import sklearn as sk\n",
    "\n",
    "accuracy=[]\n",
    "F1=[]\n",
    "precision=[]\n",
    "recall=[]\n",
    "\n",
    "\n",
    "for i in range(1, 21):\n",
    "\n",
    "    clf = tree.DecisionTreeClassifier(splitter='best', max_depth=i, random_state=3)\n",
    "    clf=clf.fit(X_train,Y_train.values.ravel())\n",
    "    clf_pred = clf.predict(X_test)\n",
    "    rf_con_mat = confusion_matrix(Y_test, clf_pred, [0, 1])\n",
    "    accuracy.append( (rf_con_mat[0, 0] + rf_con_mat[1, 1]) / float(np.sum(rf_con_mat)))\n",
    "    F1.append(sk.metrics.f1_score(Y_test, clf_pred))\n",
    "    precision.append(sk.metrics.precision_score(Y_test, clf_pred))\n",
    "    recall.append(sk.metrics.recall_score(Y_test, clf_pred))\n",
    "        \n",
    "\n",
    "m= range(1,21)\n",
    "        \n",
    "        \n",
    "import matplotlib.pyplot as plt\n",
    "\n",
    "plt.plot(m, accuracy, color='blue')\n",
    "plt.plot(m, F1, color= 'orange')\n",
    "plt.title(\"DecisionTree(Best, Max_depth= ?)- All Features\")\n",
    "plt.xlabel(\"Max_Depth\")\n",
    "\n",
    "print(\"D \", \" A \", \" P \", \" R \", \" F1 \")\n",
    "\n",
    "for n in range(0, 20):\n",
    "\n",
    "    print(m[n], round(accuracy[n],2), round(precision[n],2), round(recall[n],2), round(F1[n],2))"
   ]
  },
  {
   "cell_type": "markdown",
   "metadata": {},
   "source": [
    "# DecisionTree(\"Best, Max Depth=6, Max_Features=?\") - All Features"
   ]
  },
  {
   "cell_type": "code",
   "execution_count": 67,
   "metadata": {},
   "outputs": [
    {
     "name": "stdout",
     "output_type": "stream",
     "text": [
      "F  A   P   R   F1 \n",
      "1 0.89 0.92 0.86 0.89\n",
      "2 0.93 1.0 0.86 0.93\n",
      "3 1.0 1.0 1.0 1.0\n",
      "4 1.0 1.0 1.0 1.0\n",
      "5 1.0 1.0 1.0 1.0\n",
      "6 1.0 1.0 1.0 1.0\n",
      "7 1.0 1.0 1.0 1.0\n",
      "8 1.0 1.0 1.0 1.0\n",
      "9 1.0 1.0 1.0 1.0\n",
      "10 1.0 1.0 1.0 1.0\n",
      "11 1.0 1.0 1.0 1.0\n",
      "12 1.0 1.0 1.0 1.0\n"
     ]
    },
    {
     "data": {
      "image/png": "[encoded data removed]",
      "text/plain": [
       "<Figure size 432x288 with 1 Axes>"
      ]
     },
     "metadata": {
      "needs_background": "light"
     },
     "output_type": "display_data"
    }
   ],
   "source": [
    "from sklearn import tree\n",
    "from sklearn.metrics import confusion_matrix\n",
    "import sklearn as sk\n",
    "\n",
    "accuracy=[]\n",
    "F1=[]\n",
    "precision=[]\n",
    "recall=[]\n",
    "\n",
    "\n",
    "for i in range(1, 13):\n",
    "\n",
    "    clf = tree.DecisionTreeClassifier(splitter='best', max_depth=6, max_features=i, random_state=3)\n",
    "    clf=clf.fit(X_train,Y_train.values.ravel())\n",
    "    clf_pred = clf.predict(X_test)\n",
    "    rf_con_mat = confusion_matrix(Y_test, clf_pred, [0, 1])\n",
    "    accuracy.append( (rf_con_mat[0, 0] + rf_con_mat[1, 1]) / float(np.sum(rf_con_mat)))\n",
    "    F1.append(sk.metrics.f1_score(Y_test, clf_pred))\n",
    "    precision.append(sk.metrics.precision_score(Y_test, clf_pred))\n",
    "    recall.append(sk.metrics.recall_score(Y_test, clf_pred))\n",
    "        \n",
    "\n",
    "m= range(1,13)\n",
    "        \n",
    "        \n",
    "import matplotlib.pyplot as plt\n",
    "\n",
    "plt.plot(m, accuracy, color='blue')\n",
    "plt.plot(m, F1, color= 'orange')\n",
    "plt.title(\"DecisionTree(Best, Max_depth=6, Max_Features=?)\")\n",
    "plt.xlabel(\"Max_Features\")\n",
    "\n",
    "print(\"F\", \" A \", \" P \", \" R \", \" F1 \")\n",
    "\n",
    "for n in range(0, 12):\n",
    "\n",
    "    print(m[n], round(accuracy[n],2), round(precision[n],2), round(recall[n],2), round(F1[n],2))"
   ]
  },
  {
   "cell_type": "markdown",
   "metadata": {},
   "source": [
    "# DecisionTree(\"Random\", \"Max_depth=?\") - All Features - VIOLATIONS AND COST"
   ]
  },
  {
   "cell_type": "code",
   "execution_count": 35,
   "metadata": {},
   "outputs": [
    {
     "name": "stdout",
     "output_type": "stream",
     "text": [
      "D  A   P   R   F1 \n",
      "1 0.54 0.53 0.81 0.64\n",
      "2 0.57 0.56 0.7 0.62\n",
      "3 0.57 0.55 0.76 0.64\n",
      "4 0.57 0.59 0.49 0.54\n",
      "5 0.58 0.56 0.73 0.64\n",
      "6 0.58 0.58 0.58 0.58\n",
      "7 0.59 0.58 0.66 0.62\n",
      "8 0.59 0.58 0.66 0.62\n",
      "9 0.59 0.58 0.64 0.61\n",
      "10 0.59 0.58 0.63 0.61\n",
      "11 0.59 0.58 0.63 0.61\n",
      "12 0.59 0.58 0.63 0.61\n",
      "13 0.59 0.58 0.63 0.61\n",
      "14 0.59 0.58 0.63 0.61\n",
      "15 0.59 0.58 0.63 0.61\n",
      "16 0.59 0.58 0.63 0.61\n",
      "17 0.59 0.58 0.63 0.61\n",
      "18 0.59 0.58 0.63 0.61\n",
      "19 0.59 0.58 0.63 0.61\n",
      "20 0.59 0.58 0.63 0.61\n"
     ]
    },
    {
     "data": {
      "image/png": "[encoded data removed]",
      "text/plain": [
       "<Figure size 432x288 with 1 Axes>"
      ]
     },
     "metadata": {
      "needs_background": "light"
     },
     "output_type": "display_data"
    }
   ],
   "source": [
    "from sklearn import tree\n",
    "from sklearn.metrics import confusion_matrix\n",
    "import sklearn as sk\n",
    "\n",
    "accuracy=[]\n",
    "F1=[]\n",
    "precision=[]\n",
    "recall=[]\n",
    "\n",
    "X_train2= X_train.drop(columns=['VIOLATIONS', 'Cost'])\n",
    "X_test2= X_test.drop(columns=['VIOLATIONS', 'Cost'])\n",
    "\n",
    "for i in range(1, 21):\n",
    "\n",
    "    clf = tree.DecisionTreeClassifier(splitter='random', max_depth=i, random_state=3)\n",
    "    clf=clf.fit(X_train2,Y_train.values.ravel())\n",
    "    clf_pred = clf.predict(X_test2)\n",
    "    rf_con_mat = confusion_matrix(Y_test, clf_pred, [0, 1])\n",
    "    accuracy.append( (rf_con_mat[0, 0] + rf_con_mat[1, 1]) / float(np.sum(rf_con_mat)))\n",
    "    F1.append(sk.metrics.f1_score(Y_test, clf_pred))\n",
    "    precision.append(sk.metrics.precision_score(Y_test, clf_pred))\n",
    "    recall.append(sk.metrics.recall_score(Y_test, clf_pred))\n",
    "        \n",
    "\n",
    "m= range(1,21)\n",
    "        \n",
    "        \n",
    "import matplotlib.pyplot as plt\n",
    "\n",
    "plt.plot(m, accuracy, color='blue')\n",
    "plt.plot(m, F1, color= 'orange')\n",
    "plt.title(\"DecisionTree(Random, Max_depth=?) - All Features - VIOLATIONS AND COST\")\n",
    "plt.xlabel(\"Max_Depth\")\n",
    "\n",
    "print(\"D\", \" A \", \" P \", \" R \", \" F1 \")\n",
    "\n",
    "for n in range(0, 20):\n",
    "\n",
    "    print(m[n], round(accuracy[n],2), round(precision[n],2), round(recall[n],2), round(F1[n],2))"
   ]
  },
  {
   "cell_type": "markdown",
   "metadata": {},
   "source": [
    "# DecisionTree(\"Random\", 'Max_Depth =7\", \"Max_Featues=?') - All Features - VIOLATIONS AND COST"
   ]
  },
  {
   "cell_type": "code",
   "execution_count": 75,
   "metadata": {},
   "outputs": [
    {
     "name": "stdout",
     "output_type": "stream",
     "text": [
      "F   A   P   R   F1 \n",
      "1 0.58 0.56 0.72 0.63\n",
      "2 0.57 0.57 0.65 0.6\n",
      "3 0.58 0.57 0.69 0.62\n",
      "4 0.58 0.58 0.61 0.59\n",
      "5 0.59 0.58 0.66 0.61\n",
      "6 0.59 0.58 0.65 0.61\n",
      "7 0.59 0.57 0.68 0.62\n",
      "8 0.59 0.58 0.66 0.61\n",
      "9 0.59 0.58 0.66 0.62\n",
      "10 0.59 0.58 0.64 0.61\n",
      "11 0.59 0.57 0.67 0.62\n",
      "12 0.59 0.58 0.64 0.61\n",
      "13 0.59 0.58 0.66 0.62\n"
     ]
    },
    {
     "data": {
      "image/png": "[encoded data removed]",
      "text/plain": [
       "<Figure size 432x288 with 1 Axes>"
      ]
     },
     "metadata": {
      "needs_background": "light"
     },
     "output_type": "display_data"
    }
   ],
   "source": [
    "from sklearn import tree\n",
    "from sklearn.metrics import confusion_matrix\n",
    "import sklearn as sk\n",
    "\n",
    "accuracy=[]\n",
    "F1=[]\n",
    "precision=[]\n",
    "recall=[]\n",
    "\n",
    "X_train2= X_train.drop(columns=['VIOLATIONS', 'Cost'])\n",
    "X_test2= X_test.drop(columns=['VIOLATIONS', 'Cost'])\n",
    "\n",
    "for i in range(1, 14):\n",
    "\n",
    "    clf = tree.DecisionTreeClassifier(splitter='random', max_depth=7, max_features=i, random_state=3)\n",
    "    clf=clf.fit(X_train2,Y_train.values.ravel())\n",
    "    clf_pred = clf.predict(X_test2)\n",
    "    rf_con_mat = confusion_matrix(Y_test, clf_pred, [0, 1])\n",
    "    accuracy.append( (rf_con_mat[0, 0] + rf_con_mat[1, 1]) / float(np.sum(rf_con_mat)))\n",
    "    F1.append(sk.metrics.f1_score(Y_test, clf_pred))\n",
    "    precision.append(sk.metrics.precision_score(Y_test, clf_pred))\n",
    "    recall.append(sk.metrics.recall_score(Y_test, clf_pred))\n",
    "        \n",
    "\n",
    "        \n",
    "        \n",
    "import matplotlib.pyplot as plt\n",
    "\n",
    "plt.plot( range(1, 14), accuracy, color='blue')\n",
    "plt.plot( range(1, 14), F1, color= 'orange')\n",
    "plt.title(\"DecisionTree(Random, Max_Depth =7, Max_Featues=?) - All Features - VIOLATIONS AND COST\")\n",
    "plt.xlabel(\"Max_Features\")\n",
    "\n",
    "print(\"F \", \" A \", \" P \", \" R \", \" F1 \")\n",
    "\n",
    "for n in range(0, 13):\n",
    "\n",
    "    print(n+1, round(accuracy[n],2), round(precision[n],2), round(recall[n],2), round(F1[n],2))"
   ]
  },
  {
   "cell_type": "markdown",
   "metadata": {},
   "source": [
    "# DecisionTree(\"Best\", \"Max_Depth=?\") - All Features - VIOLATIONS AND COST"
   ]
  },
  {
   "cell_type": "code",
   "execution_count": 34,
   "metadata": {},
   "outputs": [
    {
     "name": "stdout",
     "output_type": "stream",
     "text": [
      "D   A   P   R   F1 \n",
      "1 0.54 0.53 0.81 0.64\n",
      "2 0.57 0.56 0.7 0.62\n",
      "3 0.57 0.55 0.76 0.64\n",
      "4 0.57 0.59 0.49 0.54\n",
      "5 0.58 0.56 0.73 0.64\n",
      "6 0.58 0.58 0.58 0.58\n",
      "7 0.59 0.58 0.66 0.62\n",
      "8 0.59 0.58 0.66 0.62\n",
      "9 0.59 0.58 0.64 0.61\n",
      "10 0.59 0.58 0.63 0.61\n",
      "11 0.59 0.58 0.63 0.61\n",
      "12 0.59 0.58 0.63 0.61\n",
      "13 0.59 0.58 0.63 0.61\n",
      "14 0.59 0.58 0.63 0.61\n",
      "15 0.59 0.58 0.63 0.61\n",
      "16 0.59 0.58 0.63 0.61\n",
      "17 0.59 0.58 0.63 0.61\n",
      "18 0.59 0.58 0.63 0.61\n",
      "19 0.59 0.58 0.63 0.61\n",
      "20 0.59 0.58 0.63 0.61\n"
     ]
    },
    {
     "data": {
      "image/png": "[encoded data removed]",
      "text/plain": [
       "<Figure size 432x288 with 1 Axes>"
      ]
     },
     "metadata": {
      "needs_background": "light"
     },
     "output_type": "display_data"
    }
   ],
   "source": [
    "from sklearn import tree\n",
    "from sklearn.metrics import confusion_matrix\n",
    "import sklearn as sk\n",
    "\n",
    "accuracy=[]\n",
    "F1=[]\n",
    "precision=[]\n",
    "recall=[]\n",
    "\n",
    "X_train2= X_train.drop(columns=['VIOLATIONS', 'Cost'])\n",
    "X_test2= X_test.drop(columns=['VIOLATIONS', 'Cost'])\n",
    "\n",
    "for i in range(1, 21):\n",
    "\n",
    "    clf = tree.DecisionTreeClassifier(splitter='best', max_depth=i, random_state=3)\n",
    "    clf=clf.fit(X_train2,Y_train.values.ravel())\n",
    "    clf_pred = clf.predict(X_test2)\n",
    "    rf_con_mat = confusion_matrix(Y_test, clf_pred, [0, 1])\n",
    "    accuracy.append( (rf_con_mat[0, 0] + rf_con_mat[1, 1]) / float(np.sum(rf_con_mat)))\n",
    "    F1.append(sk.metrics.f1_score(Y_test, clf_pred))\n",
    "    precision.append(sk.metrics.precision_score(Y_test, clf_pred))\n",
    "    recall.append(sk.metrics.recall_score(Y_test, clf_pred))\n",
    "        \n",
    "\n",
    "m= range(1,21)\n",
    "        \n",
    "        \n",
    "import matplotlib.pyplot as plt\n",
    "\n",
    "plt.plot(m, accuracy, color='blue')\n",
    "plt.plot(m, F1, color= 'orange')\n",
    "plt.title(\"DecisionTree(Best, Max_Depth=?) - All Features - VIOLATIONS AND COST\")\n",
    "plt.xlabel(\"Max_Depth\")\n",
    "\n",
    "print(\"D \", \" A \", \" P \", \" R \", \" F1 \")\n",
    "\n",
    "for n in range(0, 20):\n",
    "\n",
    "    print(m[n], round(accuracy[n],2), round(precision[n],2), round(recall[n],2), round(F1[n],2))"
   ]
  },
  {
   "cell_type": "markdown",
   "metadata": {},
   "source": [
    "# DecisionTree(\"Best\", 'Max_Depth =7\", \"Max_Featues=?') - All Features - VIOLATIONS AND COST"
   ]
  },
  {
   "cell_type": "code",
   "execution_count": 78,
   "metadata": {},
   "outputs": [
    {
     "name": "stdout",
     "output_type": "stream",
     "text": [
      "F   A   P   R   F1 \n",
      "1 0.58 0.58 0.6 0.59\n",
      "2 0.58 0.57 0.67 0.61\n",
      "3 0.59 0.58 0.65 0.61\n",
      "4 0.59 0.57 0.69 0.62\n",
      "5 0.59 0.58 0.66 0.62\n",
      "6 0.59 0.58 0.64 0.61\n",
      "7 0.59 0.58 0.61 0.6\n",
      "8 0.59 0.58 0.64 0.61\n",
      "9 0.59 0.58 0.64 0.61\n",
      "10 0.59 0.58 0.66 0.62\n",
      "11 0.59 0.58 0.64 0.61\n",
      "12 0.59 0.58 0.66 0.62\n",
      "13 0.59 0.58 0.66 0.62\n"
     ]
    },
    {
     "data": {
      "image/png": "[encoded data removed]",
      "text/plain": [
       "<Figure size 432x288 with 1 Axes>"
      ]
     },
     "metadata": {
      "needs_background": "light"
     },
     "output_type": "display_data"
    }
   ],
   "source": [
    "from sklearn import tree\n",
    "from sklearn.metrics import confusion_matrix\n",
    "import sklearn as sk\n",
    "\n",
    "accuracy=[]\n",
    "F1=[]\n",
    "precision=[]\n",
    "recall=[]\n",
    "\n",
    "X_train2= X_train.drop(columns=['VIOLATIONS', 'Cost'])\n",
    "X_test2= X_test.drop(columns=['VIOLATIONS', 'Cost'])\n",
    "\n",
    "for i in range(1, 14):\n",
    "\n",
    "    clf = tree.DecisionTreeClassifier(splitter='best', max_depth=7, max_features=i, random_state=3)\n",
    "    clf=clf.fit(X_train2,Y_train.values.ravel())\n",
    "    clf_pred = clf.predict(X_test2)\n",
    "    rf_con_mat = confusion_matrix(Y_test, clf_pred, [0, 1])\n",
    "    accuracy.append( (rf_con_mat[0, 0] + rf_con_mat[1, 1]) / float(np.sum(rf_con_mat)))\n",
    "    F1.append(sk.metrics.f1_score(Y_test, clf_pred))\n",
    "    precision.append(sk.metrics.precision_score(Y_test, clf_pred))\n",
    "    recall.append(sk.metrics.recall_score(Y_test, clf_pred))\n",
    "        \n",
    "\n",
    "        \n",
    "        \n",
    "import matplotlib.pyplot as plt\n",
    "\n",
    "plt.plot(range(1,14), accuracy, color='blue')\n",
    "plt.plot(range(1,14), F1, color= 'orange')\n",
    "plt.title(\"DecisionTree(Best, Max_Depth =7, Max_Featues=?) - All Features - VIOLATIONS AND COST\")\n",
    "plt.xlabel(\"Max_Features\")\n",
    "\n",
    "print(\"F \", \" A \", \" P \", \" R \", \" F1 \")\n",
    "\n",
    "for n in range(0, 13):\n",
    "\n",
    "    print(n+1, round(accuracy[n],2), round(precision[n],2), round(recall[n],2), round(F1[n],2))\n",
    "\n"
   ]
  },
  {
   "cell_type": "code",
   "execution_count": 38,
   "metadata": {},
   "outputs": [
    {
     "name": "stdout",
     "output_type": "stream",
     "text": [
      "Requirement already satisfied: pydotplus in c:\\users\\neelk\\anaconda3\\lib\\site-packages (2.0.2)\n",
      "Requirement already satisfied: pyparsing>=2.0.1 in c:\\users\\neelk\\anaconda3\\lib\\site-packages (from pydotplus) (2.4.2)\n",
      "Note: you may need to restart the kernel to use updated packages.\n"
     ]
    }
   ],
   "source": [
    "pip install pydotplus"
   ]
  },
  {
   "cell_type": "code",
   "execution_count": 35,
   "metadata": {
    "scrolled": false
   },
   "outputs": [
    {
     "data": {
      "image/png": "[encoded data removed]",
      "text/plain": [
       "<Figure size 432x288 with 1 Axes>"
      ]
     },
     "metadata": {
      "needs_background": "light"
     },
     "output_type": "display_data"
    },
    {
     "data": {
      "text/plain": [
       "<Figure size 864x864 with 0 Axes>"
      ]
     },
     "metadata": {},
     "output_type": "display_data"
    }
   ],
   "source": [
    "from sklearn import tree\n",
    "import sklearn as sk\n",
    "import matplotlib.pyplot as plt\n",
    "import graphviz\n",
    "import pydotplus\n",
    "\n",
    "IdealTree= tree.DecisionTreeClassifier(splitter='random', max_depth=4, max_features=10, random_state=3)\n",
    "IdealTree=IdealTree.fit(X_train,Y_train.values.ravel())\n",
    "\n",
    "tree.plot_tree(IdealTree, feature_names = X_train.columns)\n",
    "\n",
    "plt.figure(figsize= (12, 12))\n",
    "\n",
    "dot_data = tree.export_graphviz(IdealTree,out_file=\"Tree.Dot\", class_names=True)\n",
    " \n"
   ]
  },
  {
   "cell_type": "markdown",
   "metadata": {},
   "source": [
    "# Decision Tree Insights"
   ]
  },
  {
   "cell_type": "code",
   "execution_count": 311,
   "metadata": {},
   "outputs": [],
   "source": [
    "N_data=Data[ (Data['VIOLATIONS'] > 7.06) | ((Data['VIOLATIONS'] <= 7.06) & (Data['Cost'] > 660.719))]\n",
    "\n",
    "## Rules from the Decision Tree"
   ]
  },
  {
   "cell_type": "code",
   "execution_count": 326,
   "metadata": {},
   "outputs": [
    {
     "data": {
      "text/plain": [
       "1    79445\n",
       "Name: RedFlag, dtype: int64"
      ]
     },
     "execution_count": 326,
     "metadata": {},
     "output_type": "execute_result"
    }
   ],
   "source": [
    "N_data['RedFlag'].value_counts()\n",
    "\n",
    "## We know that this decision tree has guessed correctly. "
   ]
  },
  {
   "cell_type": "code",
   "execution_count": 316,
   "metadata": {},
   "outputs": [
    {
     "data": {
      "text/plain": [
       "0    0.797508\n",
       "1    0.202492\n",
       "Name: Region_1, dtype: float64"
      ]
     },
     "execution_count": 316,
     "metadata": {},
     "output_type": "execute_result"
    }
   ],
   "source": [
    "N_data['Region_1'].value_counts() / (N_data.shape[0])"
   ]
  },
  {
   "cell_type": "code",
   "execution_count": 317,
   "metadata": {},
   "outputs": [
    {
     "data": {
      "text/plain": [
       "0    0.716722\n",
       "1    0.283278\n",
       "Name: Region_2, dtype: float64"
      ]
     },
     "execution_count": 317,
     "metadata": {},
     "output_type": "execute_result"
    }
   ],
   "source": [
    "N_data['Region_2'].value_counts() / (N_data.shape[0])"
   ]
  },
  {
   "cell_type": "code",
   "execution_count": 318,
   "metadata": {},
   "outputs": [
    {
     "data": {
      "text/plain": [
       "0    0.832866\n",
       "1    0.167134\n",
       "Name: Region_3, dtype: float64"
      ]
     },
     "execution_count": 318,
     "metadata": {},
     "output_type": "execute_result"
    }
   ],
   "source": [
    "N_data['Region_3'].value_counts() / (N_data.shape[0])"
   ]
  },
  {
   "cell_type": "code",
   "execution_count": 319,
   "metadata": {},
   "outputs": [
    {
     "data": {
      "text/plain": [
       "0    0.789301\n",
       "1    0.210699\n",
       "Name: Region_4, dtype: float64"
      ]
     },
     "execution_count": 319,
     "metadata": {},
     "output_type": "execute_result"
    }
   ],
   "source": [
    "N_data['Region_4'].value_counts() / (N_data.shape[0])"
   ]
  },
  {
   "cell_type": "code",
   "execution_count": 320,
   "metadata": {},
   "outputs": [
    {
     "data": {
      "text/plain": [
       "0    0.863604\n",
       "1    0.136396\n",
       "Name: Region_5, dtype: float64"
      ]
     },
     "execution_count": 320,
     "metadata": {},
     "output_type": "execute_result"
    }
   ],
   "source": [
    "N_data['Region_5'].value_counts() / (N_data.shape[0])"
   ]
  },
  {
   "cell_type": "code",
   "execution_count": 126,
   "metadata": {},
   "outputs": [
    {
     "data": {
      "text/plain": [
       "1    1.0\n",
       "Name: RedFlag, dtype: float64"
      ]
     },
     "execution_count": 126,
     "metadata": {},
     "output_type": "execute_result"
    }
   ],
   "source": [
    "N_data['RedFlag'].value_counts() / (N_data.shape[0])"
   ]
  },
  {
   "cell_type": "markdown",
   "metadata": {},
   "source": [
    "# NB(Smoothing=0.02)- ALL FEATURES"
   ]
  },
  {
   "cell_type": "code",
   "execution_count": 173,
   "metadata": {},
   "outputs": [
    {
     "name": "stdout",
     "output_type": "stream",
     "text": [
      "Accuracy 0.9\n",
      "F1 0.89\n",
      "Precision 1.0\n",
      "Recall 0.79\n"
     ]
    }
   ],
   "source": [
    "from sklearn.naive_bayes import GaussianNB\n",
    "from sklearn.metrics import confusion_matrix\n",
    "gnb = GaussianNB(var_smoothing=0.02)\n",
    "\n",
    "\n",
    "y_pred = gnb.fit(X_train, Y_train.values.ravel()).predict(X_test)\n",
    "rf_con_mat = confusion_matrix(Y_test, y_pred, [0, 1])\n",
    "Accuracy=( (rf_con_mat[0, 0] + rf_con_mat[1, 1]) / float(np.sum(rf_con_mat)))\n",
    "F1=(sk.metrics.f1_score(Y_test, y_pred))\n",
    "Precision= (sk.metrics.precision_score(Y_test, y_pred))\n",
    "Recall=(sk.metrics.recall_score(Y_test, y_pred))\n",
    "\n",
    "print(\"Accuracy\", round(Accuracy,2))\n",
    "\n",
    "print(\"F1\", round(F1,2)) \n",
    "\n",
    "print(\"Precision\", round(Precision,2))\n",
    "\n",
    "print(\"Recall\", round(Recall,2))\n"
   ]
  },
  {
   "cell_type": "markdown",
   "metadata": {},
   "source": [
    "# NB(Smoothing=0.02)- ALL FEATURES - VIOLATIONS AND COST"
   ]
  },
  {
   "cell_type": "code",
   "execution_count": 369,
   "metadata": {},
   "outputs": [
    {
     "name": "stdout",
     "output_type": "stream",
     "text": [
      "Accuracy 0.57\n",
      "F1 0.58\n",
      "Precision 0.57\n",
      "Recall 0.6\n"
     ]
    }
   ],
   "source": [
    "from sklearn.naive_bayes import GaussianNB\n",
    "from sklearn.metrics import confusion_matrix\n",
    "gnb = GaussianNB(var_smoothing=0.02)\n",
    "\n",
    "X_test2= X_test.drop(columns=['VIOLATIONS', 'Cost'])\n",
    "X_train2= X_train.drop(columns=['VIOLATIONS', 'Cost'])\n",
    "\n",
    "\n",
    "y_pred = gnb.fit(X_train2, Y_train.values.ravel()).predict(X_test2)\n",
    "rf_con_mat = confusion_matrix(Y_test, y_pred, [0, 1])\n",
    "Accuracy=( (rf_con_mat[0, 0] + rf_con_mat[1, 1]) / float(np.sum(rf_con_mat)))\n",
    "F1=(sk.metrics.f1_score(Y_test, y_pred))\n",
    "Precision= (sk.metrics.precision_score(Y_test, y_pred))\n",
    "Recall=(sk.metrics.recall_score(Y_test, y_pred))\n",
    "\n",
    "print(\"Accuracy\", round(Accuracy,2))\n",
    "\n",
    "print(\"F1\", round(F1,2)) \n",
    "\n",
    "print(\"Precision\", round(Precision,2))\n",
    "\n",
    "print(\"Recall\", round(Recall,2))\n"
   ]
  },
  {
   "cell_type": "markdown",
   "metadata": {},
   "source": [
    "# NB(Smoothing=0.1)- ALL FEATURES"
   ]
  },
  {
   "cell_type": "code",
   "execution_count": 177,
   "metadata": {},
   "outputs": [
    {
     "name": "stdout",
     "output_type": "stream",
     "text": [
      "Accuracy 0.82\n",
      "F1 0.78\n",
      "Precision 1.0\n",
      "Recall 0.64\n"
     ]
    }
   ],
   "source": [
    "from sklearn.naive_bayes import GaussianNB\n",
    "from sklearn.metrics import confusion_matrix\n",
    "gnb = GaussianNB(var_smoothing=0.1)\n",
    "\n",
    "\n",
    "y_pred = gnb.fit(X_train, Y_train.values.ravel()).predict(X_test)\n",
    "rf_con_mat = confusion_matrix(Y_test, y_pred, [0, 1])\n",
    "Accuracy=( (rf_con_mat[0, 0] + rf_con_mat[1, 1]) / float(np.sum(rf_con_mat)))\n",
    "F1=(sk.metrics.f1_score(Y_test, y_pred))\n",
    "Precision= (sk.metrics.precision_score(Y_test, y_pred))\n",
    "Recall=(sk.metrics.recall_score(Y_test, y_pred))\n",
    "\n",
    "print(\"Accuracy\", round(Accuracy,2))\n",
    "\n",
    "print(\"F1\", round(F1,2)) \n",
    "\n",
    "print(\"Precision\", round(Precision,2))\n",
    "\n",
    "print(\"Recall\", round(Recall,2))\n"
   ]
  },
  {
   "cell_type": "markdown",
   "metadata": {},
   "source": [
    "# NB(Smoothing=0.1)- ALL FEATURES - VIOLATIONS AND COST"
   ]
  },
  {
   "cell_type": "code",
   "execution_count": 370,
   "metadata": {},
   "outputs": [
    {
     "name": "stdout",
     "output_type": "stream",
     "text": [
      "Accuracy 0.57\n",
      "F1 0.58\n",
      "Precision 0.57\n",
      "Recall 0.59\n"
     ]
    }
   ],
   "source": [
    "from sklearn.naive_bayes import GaussianNB\n",
    "from sklearn.metrics import confusion_matrix\n",
    "gnb = GaussianNB(var_smoothing=0.1)\n",
    "\n",
    "X_test2= X_test.drop(columns=['VIOLATIONS', 'Cost'])\n",
    "X_train2= X_train.drop(columns=['VIOLATIONS', 'Cost'])\n",
    "\n",
    "\n",
    "y_pred = gnb.fit(X_train2, Y_train.values.ravel()).predict(X_test2)\n",
    "rf_con_mat = confusion_matrix(Y_test, y_pred, [0, 1])\n",
    "Accuracy=( (rf_con_mat[0, 0] + rf_con_mat[1, 1]) / float(np.sum(rf_con_mat)))\n",
    "F1=(sk.metrics.f1_score(Y_test, y_pred))\n",
    "Precision= (sk.metrics.precision_score(Y_test, y_pred))\n",
    "Recall=(sk.metrics.recall_score(Y_test, y_pred))\n",
    "\n",
    "print(\"Accuracy\", round(Accuracy,2))\n",
    "\n",
    "print(\"F1\", round(F1,2)) \n",
    "\n",
    "print(\"Precision\", round(Precision,2))\n",
    "\n",
    "print(\"Recall\", round(Recall,2))"
   ]
  },
  {
   "cell_type": "markdown",
   "metadata": {},
   "source": [
    "# NB(Smoothing=0.5)- ALL FEATURES"
   ]
  },
  {
   "cell_type": "code",
   "execution_count": 178,
   "metadata": {},
   "outputs": [
    {
     "name": "stdout",
     "output_type": "stream",
     "text": [
      "Accuracy 0.71\n",
      "F1 0.6\n",
      "Precision 1.0\n",
      "Recall 0.43\n"
     ]
    }
   ],
   "source": [
    "from sklearn.naive_bayes import GaussianNB\n",
    "from sklearn.metrics import confusion_matrix\n",
    "gnb = GaussianNB(var_smoothing=0.5)\n",
    "\n",
    "\n",
    "y_pred = gnb.fit(X_train, Y_train.values.ravel()).predict(X_test)\n",
    "rf_con_mat = confusion_matrix(Y_test, y_pred, [0, 1])\n",
    "Accuracy=( (rf_con_mat[0, 0] + rf_con_mat[1, 1]) / float(np.sum(rf_con_mat)))\n",
    "F1=(sk.metrics.f1_score(Y_test, y_pred))\n",
    "Precision= (sk.metrics.precision_score(Y_test, y_pred))\n",
    "Recall=(sk.metrics.recall_score(Y_test, y_pred))\n",
    "\n",
    "print(\"Accuracy\", round(Accuracy,2))\n",
    "\n",
    "print(\"F1\", round(F1,2)) \n",
    "\n",
    "print(\"Precision\", round(Precision,2))\n",
    "\n",
    "print(\"Recall\", round(Recall,2))\n"
   ]
  },
  {
   "cell_type": "markdown",
   "metadata": {},
   "source": [
    "# NB(Smoothing=0.5)- ALL FEATURES - VIOLATIONS AND COST"
   ]
  },
  {
   "cell_type": "code",
   "execution_count": 371,
   "metadata": {},
   "outputs": [
    {
     "name": "stdout",
     "output_type": "stream",
     "text": [
      "Accuracy 0.58\n",
      "F1 0.6\n",
      "Precision 0.57\n",
      "Recall 0.62\n"
     ]
    }
   ],
   "source": [
    "from sklearn.naive_bayes import GaussianNB\n",
    "from sklearn.metrics import confusion_matrix\n",
    "gnb = GaussianNB(var_smoothing=0.5)\n",
    "\n",
    "X_test2= X_test.drop(columns=['VIOLATIONS', 'Cost'])\n",
    "X_train2= X_train.drop(columns=['VIOLATIONS', 'Cost'])\n",
    "\n",
    "\n",
    "y_pred = gnb.fit(X_train2, Y_train.values.ravel()).predict(X_test2)\n",
    "rf_con_mat = confusion_matrix(Y_test, y_pred, [0, 1])\n",
    "Accuracy=( (rf_con_mat[0, 0] + rf_con_mat[1, 1]) / float(np.sum(rf_con_mat)))\n",
    "F1=(sk.metrics.f1_score(Y_test, y_pred))\n",
    "Precision= (sk.metrics.precision_score(Y_test, y_pred))\n",
    "Recall=(sk.metrics.recall_score(Y_test, y_pred))\n",
    "\n",
    "print(\"Accuracy\", round(Accuracy,2))\n",
    "\n",
    "print(\"F1\", round(F1,2)) \n",
    "\n",
    "print(\"Precision\", round(Precision,2))\n",
    "\n",
    "print(\"Recall\", round(Recall,2))"
   ]
  },
  {
   "cell_type": "markdown",
   "metadata": {},
   "source": [
    "# NB(Smoothing=0.01)- ALL FEATURES"
   ]
  },
  {
   "cell_type": "code",
   "execution_count": 180,
   "metadata": {},
   "outputs": [
    {
     "name": "stdout",
     "output_type": "stream",
     "text": [
      "Accuracy 1.0\n",
      "F1 1.0\n",
      "Precision 1.0\n",
      "Recall 1.0\n"
     ]
    }
   ],
   "source": [
    "from sklearn.naive_bayes import GaussianNB\n",
    "from sklearn.metrics import confusion_matrix\n",
    "gnb = GaussianNB(var_smoothing=0.01)\n",
    "\n",
    "\n",
    "y_pred = gnb.fit(X_train, Y_train.values.ravel()).predict(X_test)\n",
    "rf_con_mat = confusion_matrix(Y_test, y_pred, [0, 1])\n",
    "Accuracy=( (rf_con_mat[0, 0] + rf_con_mat[1, 1]) / float(np.sum(rf_con_mat)))\n",
    "F1=(sk.metrics.f1_score(Y_test, y_pred))\n",
    "Precision= (sk.metrics.precision_score(Y_test, y_pred))\n",
    "Recall=(sk.metrics.recall_score(Y_test, y_pred))\n",
    "\n",
    "print(\"Accuracy\", round(Accuracy,2))\n",
    "\n",
    "print(\"F1\", round(F1,2)) \n",
    "\n",
    "print(\"Precision\", round(Precision,2))\n",
    "\n",
    "print(\"Recall\", round(Recall,2))\n"
   ]
  },
  {
   "cell_type": "markdown",
   "metadata": {},
   "source": [
    "# NB(Smoothing=0.01)- ALL FEATURES - VIOLATIONS AND COST"
   ]
  },
  {
   "cell_type": "code",
   "execution_count": 372,
   "metadata": {},
   "outputs": [
    {
     "name": "stdout",
     "output_type": "stream",
     "text": [
      "Accuracy 0.57\n",
      "F1 0.58\n",
      "Precision 0.57\n",
      "Recall 0.6\n"
     ]
    }
   ],
   "source": [
    "from sklearn.naive_bayes import GaussianNB\n",
    "from sklearn.metrics import confusion_matrix\n",
    "gnb = GaussianNB(var_smoothing=0.01)\n",
    "\n",
    "X_test2= X_test.drop(columns=['VIOLATIONS', 'Cost'])\n",
    "X_train2= X_train.drop(columns=['VIOLATIONS', 'Cost'])\n",
    "\n",
    "\n",
    "y_pred = gnb.fit(X_train2, Y_train.values.ravel()).predict(X_test2)\n",
    "rf_con_mat = confusion_matrix(Y_test, y_pred, [0, 1])\n",
    "Accuracy=( (rf_con_mat[0, 0] + rf_con_mat[1, 1]) / float(np.sum(rf_con_mat)))\n",
    "F1=(sk.metrics.f1_score(Y_test, y_pred))\n",
    "Precision= (sk.metrics.precision_score(Y_test, y_pred))\n",
    "Recall=(sk.metrics.recall_score(Y_test, y_pred))\n",
    "\n",
    "print(\"Accuracy\", round(Accuracy,2))\n",
    "\n",
    "print(\"F1\", round(F1,2)) \n",
    "\n",
    "print(\"Precision\", round(Precision,2))\n",
    "\n",
    "print(\"Recall\", round(Recall,2))"
   ]
  },
  {
   "cell_type": "markdown",
   "metadata": {},
   "source": [
    "# NB(Smoothing=0.9)- ALL FEATURES "
   ]
  },
  {
   "cell_type": "code",
   "execution_count": 181,
   "metadata": {},
   "outputs": [
    {
     "name": "stdout",
     "output_type": "stream",
     "text": [
      "Accuracy 0.68\n",
      "F1 0.53\n",
      "Precision 1.0\n",
      "Recall 0.36\n"
     ]
    }
   ],
   "source": [
    "from sklearn.naive_bayes import GaussianNB\n",
    "from sklearn.metrics import confusion_matrix\n",
    "gnb = GaussianNB(var_smoothing=0.9)\n",
    "\n",
    "\n",
    "y_pred = gnb.fit(X_train, Y_train.values.ravel()).predict(X_test)\n",
    "rf_con_mat = confusion_matrix(Y_test, y_pred, [0, 1])\n",
    "Accuracy=( (rf_con_mat[0, 0] + rf_con_mat[1, 1]) / float(np.sum(rf_con_mat)))\n",
    "F1=(sk.metrics.f1_score(Y_test, y_pred))\n",
    "Precision= (sk.metrics.precision_score(Y_test, y_pred))\n",
    "Recall=(sk.metrics.recall_score(Y_test, y_pred))\n",
    "\n",
    "print(\"Accuracy\", round(Accuracy,2))\n",
    "\n",
    "print(\"F1\", round(F1,2)) \n",
    "\n",
    "print(\"Precision\", round(Precision,2))\n",
    "\n",
    "print(\"Recall\", round(Recall,2))\n"
   ]
  },
  {
   "cell_type": "markdown",
   "metadata": {},
   "source": [
    "# NB(Smoothing=0.9)- ALL FEATURES  - VIOLATIONS AND COST"
   ]
  },
  {
   "cell_type": "code",
   "execution_count": 373,
   "metadata": {},
   "outputs": [
    {
     "name": "stdout",
     "output_type": "stream",
     "text": [
      "Accuracy 0.58\n",
      "F1 0.6\n",
      "Precision 0.57\n",
      "Recall 0.63\n"
     ]
    }
   ],
   "source": [
    "from sklearn.naive_bayes import GaussianNB\n",
    "from sklearn.metrics import confusion_matrix\n",
    "gnb = GaussianNB(var_smoothing=0.9)\n",
    "\n",
    "X_test2= X_test.drop(columns=['VIOLATIONS', 'Cost'])\n",
    "X_train2= X_train.drop(columns=['VIOLATIONS', 'Cost'])\n",
    "\n",
    "\n",
    "y_pred = gnb.fit(X_train2, Y_train.values.ravel()).predict(X_test2)\n",
    "rf_con_mat = confusion_matrix(Y_test, y_pred, [0, 1])\n",
    "Accuracy=( (rf_con_mat[0, 0] + rf_con_mat[1, 1]) / float(np.sum(rf_con_mat)))\n",
    "F1=(sk.metrics.f1_score(Y_test, y_pred))\n",
    "Precision= (sk.metrics.precision_score(Y_test, y_pred))\n",
    "Recall=(sk.metrics.recall_score(Y_test, y_pred))\n",
    "\n",
    "print(\"Accuracy\", round(Accuracy,2))\n",
    "\n",
    "print(\"F1\", round(F1,2)) \n",
    "\n",
    "print(\"Precision\", round(Precision,2))\n",
    "\n",
    "print(\"Recall\", round(Recall,2))"
   ]
  },
  {
   "cell_type": "markdown",
   "metadata": {},
   "source": [
    "# NB(Smoothing=5)- ALL FEATURES  "
   ]
  },
  {
   "cell_type": "code",
   "execution_count": 185,
   "metadata": {},
   "outputs": [
    {
     "name": "stdout",
     "output_type": "stream",
     "text": [
      "Accuracy 0.63\n",
      "F1 0.41\n",
      "Precision 1.0\n",
      "Recall 0.26\n"
     ]
    }
   ],
   "source": [
    "from sklearn.naive_bayes import GaussianNB\n",
    "from sklearn.metrics import confusion_matrix\n",
    "gnb = GaussianNB(var_smoothing=5)\n",
    "\n",
    "\n",
    "y_pred = gnb.fit(X_train, Y_train.values.ravel()).predict(X_test)\n",
    "rf_con_mat = confusion_matrix(Y_test, y_pred, [0, 1])\n",
    "Accuracy=( (rf_con_mat[0, 0] + rf_con_mat[1, 1]) / float(np.sum(rf_con_mat)))\n",
    "F1=(sk.metrics.f1_score(Y_test, y_pred))\n",
    "Precision= (sk.metrics.precision_score(Y_test, y_pred))\n",
    "Recall=(sk.metrics.recall_score(Y_test, y_pred))\n",
    "\n",
    "print(\"Accuracy\", round(Accuracy,2))\n",
    "\n",
    "print(\"F1\", round(F1,2)) \n",
    "\n",
    "print(\"Precision\", round(Precision,2))\n",
    "\n",
    "print(\"Recall\", round(Recall,2))"
   ]
  },
  {
   "cell_type": "markdown",
   "metadata": {},
   "source": [
    "# NB(Smoothing=5)- ALL FEATURES  - VIOLATIONS AND COST"
   ]
  },
  {
   "cell_type": "code",
   "execution_count": 374,
   "metadata": {},
   "outputs": [
    {
     "name": "stdout",
     "output_type": "stream",
     "text": [
      "Accuracy 0.57\n",
      "F1 0.6\n",
      "Precision 0.57\n",
      "Recall 0.64\n"
     ]
    }
   ],
   "source": [
    "from sklearn.naive_bayes import GaussianNB\n",
    "from sklearn.metrics import confusion_matrix\n",
    "gnb = GaussianNB(var_smoothing=5)\n",
    "\n",
    "X_test2= X_test.drop(columns=['VIOLATIONS', 'Cost'])\n",
    "X_train2= X_train.drop(columns=['VIOLATIONS', 'Cost'])\n",
    "\n",
    "\n",
    "y_pred = gnb.fit(X_train2, Y_train.values.ravel()).predict(X_test2)\n",
    "rf_con_mat = confusion_matrix(Y_test, y_pred, [0, 1])\n",
    "Accuracy=( (rf_con_mat[0, 0] + rf_con_mat[1, 1]) / float(np.sum(rf_con_mat)))\n",
    "F1=(sk.metrics.f1_score(Y_test, y_pred))\n",
    "Precision= (sk.metrics.precision_score(Y_test, y_pred))\n",
    "Recall=(sk.metrics.recall_score(Y_test, y_pred))\n",
    "\n",
    "print(\"Accuracy\", round(Accuracy,2))\n",
    "\n",
    "print(\"F1\", round(F1,2)) \n",
    "\n",
    "print(\"Precision\", round(Precision,2))\n",
    "\n",
    "print(\"Recall\", round(Recall,2))"
   ]
  },
  {
   "cell_type": "code",
   "execution_count": 259,
   "metadata": {},
   "outputs": [],
   "source": [
    "X_test=X_test.drop(columns='Row_Number')\n"
   ]
  },
  {
   "cell_type": "code",
   "execution_count": 321,
   "metadata": {},
   "outputs": [],
   "source": [
    "from sklearn.naive_bayes import GaussianNB\n",
    "from sklearn.metrics import confusion_matrix\n",
    "gnb = GaussianNB(var_smoothing=0.02)\n",
    "\n",
    "\n",
    "A= gnb.fit(X_train, Y_train.values.ravel()).predict(X_test)"
   ]
  },
  {
   "cell_type": "code",
   "execution_count": 322,
   "metadata": {},
   "outputs": [],
   "source": [
    "P=gnb.predict_proba(X_test)"
   ]
  },
  {
   "cell_type": "code",
   "execution_count": 323,
   "metadata": {},
   "outputs": [],
   "source": [
    "P=pd.DataFrame(P)"
   ]
  },
  {
   "cell_type": "code",
   "execution_count": 277,
   "metadata": {},
   "outputs": [
    {
     "data": {
      "text/html": [
       "<div>\n",
       "<style scoped>\n",
       "    .dataframe tbody tr th:only-of-type {\n",
       "        vertical-align: middle;\n",
       "    }\n",
       "\n",
       "    .dataframe tbody tr th {\n",
       "        vertical-align: top;\n",
       "    }\n",
       "\n",
       "    .dataframe thead th {\n",
       "        text-align: right;\n",
       "    }\n",
       "</style>\n",
       "<table border=\"1\" class=\"dataframe\">\n",
       "  <thead>\n",
       "    <tr style=\"text-align: right;\">\n",
       "      <th></th>\n",
       "      <th>Region_5</th>\n",
       "      <th>Region_4</th>\n",
       "      <th>Winter</th>\n",
       "      <th>Region_2</th>\n",
       "      <th>2014</th>\n",
       "      <th>Region_1</th>\n",
       "      <th>2016</th>\n",
       "      <th>2017</th>\n",
       "      <th>2015</th>\n",
       "      <th>Spring</th>\n",
       "      <th>Fall</th>\n",
       "      <th>Region_3</th>\n",
       "      <th>Cost</th>\n",
       "      <th>Summer</th>\n",
       "      <th>VIOLATIONS</th>\n",
       "    </tr>\n",
       "  </thead>\n",
       "  <tbody>\n",
       "    <tr>\n",
       "      <td>397143</td>\n",
       "      <td>0</td>\n",
       "      <td>0</td>\n",
       "      <td>1</td>\n",
       "      <td>1</td>\n",
       "      <td>0</td>\n",
       "      <td>0</td>\n",
       "      <td>0</td>\n",
       "      <td>1</td>\n",
       "      <td>0</td>\n",
       "      <td>0</td>\n",
       "      <td>0</td>\n",
       "      <td>0</td>\n",
       "      <td>900</td>\n",
       "      <td>0</td>\n",
       "      <td>9</td>\n",
       "    </tr>\n",
       "    <tr>\n",
       "      <td>146660</td>\n",
       "      <td>0</td>\n",
       "      <td>1</td>\n",
       "      <td>1</td>\n",
       "      <td>0</td>\n",
       "      <td>0</td>\n",
       "      <td>0</td>\n",
       "      <td>0</td>\n",
       "      <td>0</td>\n",
       "      <td>1</td>\n",
       "      <td>0</td>\n",
       "      <td>0</td>\n",
       "      <td>0</td>\n",
       "      <td>100</td>\n",
       "      <td>0</td>\n",
       "      <td>1</td>\n",
       "    </tr>\n",
       "    <tr>\n",
       "      <td>334312</td>\n",
       "      <td>1</td>\n",
       "      <td>0</td>\n",
       "      <td>0</td>\n",
       "      <td>0</td>\n",
       "      <td>1</td>\n",
       "      <td>0</td>\n",
       "      <td>0</td>\n",
       "      <td>0</td>\n",
       "      <td>0</td>\n",
       "      <td>0</td>\n",
       "      <td>1</td>\n",
       "      <td>0</td>\n",
       "      <td>700</td>\n",
       "      <td>0</td>\n",
       "      <td>7</td>\n",
       "    </tr>\n",
       "    <tr>\n",
       "      <td>410143</td>\n",
       "      <td>0</td>\n",
       "      <td>0</td>\n",
       "      <td>1</td>\n",
       "      <td>0</td>\n",
       "      <td>0</td>\n",
       "      <td>1</td>\n",
       "      <td>0</td>\n",
       "      <td>0</td>\n",
       "      <td>1</td>\n",
       "      <td>0</td>\n",
       "      <td>0</td>\n",
       "      <td>0</td>\n",
       "      <td>1900</td>\n",
       "      <td>0</td>\n",
       "      <td>19</td>\n",
       "    </tr>\n",
       "    <tr>\n",
       "      <td>102527</td>\n",
       "      <td>0</td>\n",
       "      <td>0</td>\n",
       "      <td>1</td>\n",
       "      <td>1</td>\n",
       "      <td>0</td>\n",
       "      <td>0</td>\n",
       "      <td>0</td>\n",
       "      <td>1</td>\n",
       "      <td>0</td>\n",
       "      <td>0</td>\n",
       "      <td>0</td>\n",
       "      <td>0</td>\n",
       "      <td>1500</td>\n",
       "      <td>0</td>\n",
       "      <td>15</td>\n",
       "    </tr>\n",
       "    <tr>\n",
       "      <td>...</td>\n",
       "      <td>...</td>\n",
       "      <td>...</td>\n",
       "      <td>...</td>\n",
       "      <td>...</td>\n",
       "      <td>...</td>\n",
       "      <td>...</td>\n",
       "      <td>...</td>\n",
       "      <td>...</td>\n",
       "      <td>...</td>\n",
       "      <td>...</td>\n",
       "      <td>...</td>\n",
       "      <td>...</td>\n",
       "      <td>...</td>\n",
       "      <td>...</td>\n",
       "      <td>...</td>\n",
       "    </tr>\n",
       "    <tr>\n",
       "      <td>206815</td>\n",
       "      <td>0</td>\n",
       "      <td>1</td>\n",
       "      <td>0</td>\n",
       "      <td>0</td>\n",
       "      <td>0</td>\n",
       "      <td>0</td>\n",
       "      <td>1</td>\n",
       "      <td>0</td>\n",
       "      <td>0</td>\n",
       "      <td>0</td>\n",
       "      <td>0</td>\n",
       "      <td>0</td>\n",
       "      <td>600</td>\n",
       "      <td>1</td>\n",
       "      <td>6</td>\n",
       "    </tr>\n",
       "    <tr>\n",
       "      <td>91771</td>\n",
       "      <td>0</td>\n",
       "      <td>1</td>\n",
       "      <td>1</td>\n",
       "      <td>0</td>\n",
       "      <td>0</td>\n",
       "      <td>0</td>\n",
       "      <td>0</td>\n",
       "      <td>1</td>\n",
       "      <td>0</td>\n",
       "      <td>0</td>\n",
       "      <td>0</td>\n",
       "      <td>0</td>\n",
       "      <td>500</td>\n",
       "      <td>0</td>\n",
       "      <td>5</td>\n",
       "    </tr>\n",
       "    <tr>\n",
       "      <td>207107</td>\n",
       "      <td>0</td>\n",
       "      <td>0</td>\n",
       "      <td>0</td>\n",
       "      <td>1</td>\n",
       "      <td>0</td>\n",
       "      <td>0</td>\n",
       "      <td>1</td>\n",
       "      <td>0</td>\n",
       "      <td>0</td>\n",
       "      <td>0</td>\n",
       "      <td>0</td>\n",
       "      <td>0</td>\n",
       "      <td>300</td>\n",
       "      <td>1</td>\n",
       "      <td>3</td>\n",
       "    </tr>\n",
       "    <tr>\n",
       "      <td>310389</td>\n",
       "      <td>0</td>\n",
       "      <td>1</td>\n",
       "      <td>0</td>\n",
       "      <td>0</td>\n",
       "      <td>0</td>\n",
       "      <td>0</td>\n",
       "      <td>0</td>\n",
       "      <td>0</td>\n",
       "      <td>1</td>\n",
       "      <td>0</td>\n",
       "      <td>1</td>\n",
       "      <td>0</td>\n",
       "      <td>100</td>\n",
       "      <td>0</td>\n",
       "      <td>1</td>\n",
       "    </tr>\n",
       "    <tr>\n",
       "      <td>303010</td>\n",
       "      <td>0</td>\n",
       "      <td>1</td>\n",
       "      <td>0</td>\n",
       "      <td>0</td>\n",
       "      <td>0</td>\n",
       "      <td>0</td>\n",
       "      <td>0</td>\n",
       "      <td>0</td>\n",
       "      <td>1</td>\n",
       "      <td>0</td>\n",
       "      <td>0</td>\n",
       "      <td>0</td>\n",
       "      <td>800</td>\n",
       "      <td>1</td>\n",
       "      <td>8</td>\n",
       "    </tr>\n",
       "  </tbody>\n",
       "</table>\n",
       "<p>126443 rows × 15 columns</p>\n",
       "</div>"
      ],
      "text/plain": [
       "        Region_5  Region_4  Winter  Region_2  2014  Region_1  2016  2017  \\\n",
       "397143         0         0       1         1     0         0     0     1   \n",
       "146660         0         1       1         0     0         0     0     0   \n",
       "334312         1         0       0         0     1         0     0     0   \n",
       "410143         0         0       1         0     0         1     0     0   \n",
       "102527         0         0       1         1     0         0     0     1   \n",
       "...          ...       ...     ...       ...   ...       ...   ...   ...   \n",
       "206815         0         1       0         0     0         0     1     0   \n",
       "91771          0         1       1         0     0         0     0     1   \n",
       "207107         0         0       0         1     0         0     1     0   \n",
       "310389         0         1       0         0     0         0     0     0   \n",
       "303010         0         1       0         0     0         0     0     0   \n",
       "\n",
       "        2015  Spring  Fall  Region_3  Cost  Summer  VIOLATIONS  \n",
       "397143     0       0     0         0   900       0           9  \n",
       "146660     1       0     0         0   100       0           1  \n",
       "334312     0       0     1         0   700       0           7  \n",
       "410143     1       0     0         0  1900       0          19  \n",
       "102527     0       0     0         0  1500       0          15  \n",
       "...      ...     ...   ...       ...   ...     ...         ...  \n",
       "206815     0       0     0         0   600       1           6  \n",
       "91771      0       0     0         0   500       0           5  \n",
       "207107     0       0     0         0   300       1           3  \n",
       "310389     1       0     1         0   100       0           1  \n",
       "303010     1       0     0         0   800       1           8  \n",
       "\n",
       "[126443 rows x 15 columns]"
      ]
     },
     "execution_count": 277,
     "metadata": {},
     "output_type": "execute_result"
    }
   ],
   "source": [
    "X_test"
   ]
  },
  {
   "cell_type": "code",
   "execution_count": 290,
   "metadata": {},
   "outputs": [
    {
     "data": {
      "text/html": [
       "<div>\n",
       "<style scoped>\n",
       "    .dataframe tbody tr th:only-of-type {\n",
       "        vertical-align: middle;\n",
       "    }\n",
       "\n",
       "    .dataframe tbody tr th {\n",
       "        vertical-align: top;\n",
       "    }\n",
       "\n",
       "    .dataframe thead th {\n",
       "        text-align: right;\n",
       "    }\n",
       "</style>\n",
       "<table border=\"1\" class=\"dataframe\">\n",
       "  <thead>\n",
       "    <tr style=\"text-align: right;\">\n",
       "      <th></th>\n",
       "      <th>0</th>\n",
       "      <th>1</th>\n",
       "    </tr>\n",
       "  </thead>\n",
       "  <tbody>\n",
       "    <tr>\n",
       "      <td>0</td>\n",
       "      <td>1.234817e-02</td>\n",
       "      <td>0.987652</td>\n",
       "    </tr>\n",
       "    <tr>\n",
       "      <td>1</td>\n",
       "      <td>8.699975e-01</td>\n",
       "      <td>0.130003</td>\n",
       "    </tr>\n",
       "    <tr>\n",
       "      <td>2</td>\n",
       "      <td>2.607393e-01</td>\n",
       "      <td>0.739261</td>\n",
       "    </tr>\n",
       "    <tr>\n",
       "      <td>3</td>\n",
       "      <td>1.452945e-17</td>\n",
       "      <td>1.000000</td>\n",
       "    </tr>\n",
       "    <tr>\n",
       "      <td>4</td>\n",
       "      <td>4.706390e-10</td>\n",
       "      <td>1.000000</td>\n",
       "    </tr>\n",
       "    <tr>\n",
       "      <td>...</td>\n",
       "      <td>...</td>\n",
       "      <td>...</td>\n",
       "    </tr>\n",
       "    <tr>\n",
       "      <td>126438</td>\n",
       "      <td>5.462326e-01</td>\n",
       "      <td>0.453767</td>\n",
       "    </tr>\n",
       "    <tr>\n",
       "      <td>126439</td>\n",
       "      <td>7.536611e-01</td>\n",
       "      <td>0.246339</td>\n",
       "    </tr>\n",
       "    <tr>\n",
       "      <td>126440</td>\n",
       "      <td>8.908284e-01</td>\n",
       "      <td>0.109172</td>\n",
       "    </tr>\n",
       "    <tr>\n",
       "      <td>126441</td>\n",
       "      <td>8.699969e-01</td>\n",
       "      <td>0.130003</td>\n",
       "    </tr>\n",
       "    <tr>\n",
       "      <td>126442</td>\n",
       "      <td>7.145470e-02</td>\n",
       "      <td>0.928545</td>\n",
       "    </tr>\n",
       "  </tbody>\n",
       "</table>\n",
       "<p>126443 rows × 2 columns</p>\n",
       "</div>"
      ],
      "text/plain": [
       "                   0         1\n",
       "0       1.234817e-02  0.987652\n",
       "1       8.699975e-01  0.130003\n",
       "2       2.607393e-01  0.739261\n",
       "3       1.452945e-17  1.000000\n",
       "4       4.706390e-10  1.000000\n",
       "...              ...       ...\n",
       "126438  5.462326e-01  0.453767\n",
       "126439  7.536611e-01  0.246339\n",
       "126440  8.908284e-01  0.109172\n",
       "126441  8.699969e-01  0.130003\n",
       "126442  7.145470e-02  0.928545\n",
       "\n",
       "[126443 rows x 2 columns]"
      ]
     },
     "execution_count": 290,
     "metadata": {},
     "output_type": "execute_result"
    }
   ],
   "source": [
    "P"
   ]
  },
  {
   "cell_type": "code",
   "execution_count": 324,
   "metadata": {},
   "outputs": [],
   "source": [
    "pd.DataFrame.to_csv(P, \"Naive_Prob.csv\")"
   ]
  },
  {
   "cell_type": "code",
   "execution_count": 325,
   "metadata": {},
   "outputs": [],
   "source": [
    "pd.DataFrame.to_csv(X_test, \"X_test.csv\")"
   ]
  },
  {
   "cell_type": "code",
   "execution_count": null,
   "metadata": {},
   "outputs": [],
   "source": [
    "4"
   ]
  }
 ],
 "metadata": {
  "kernelspec": {
   "display_name": "Python 3",
   "language": "python",
   "name": "python3"
  },
  "language_info": {
   "codemirror_mode": {
    "name": "ipython",
    "version": 3
   },
   "file_extension": ".py",
   "mimetype": "text/x-python",
   "name": "python",
   "nbconvert_exporter": "python",
   "pygments_lexer": "ipython3",
   "version": "3.7.4"
  }
 },
 "nbformat": 4,
 "nbformat_minor": 2
}
